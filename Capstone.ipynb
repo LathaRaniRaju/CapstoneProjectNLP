{
  "nbformat": 4,
  "nbformat_minor": 0,
  "metadata": {
    "colab": {
      "name": "Capstone.ipynb",
      "provenance": [],
      "collapsed_sections": []
    },
    "kernelspec": {
      "name": "python3",
      "display_name": "Python 3"
    },
    "language_info": {
      "name": "python"
    }
  },
  "cells": [
    {
      "cell_type": "code",
      "metadata": {
        "colab": {
          "base_uri": "https://localhost:8080/"
        },
        "id": "30cjnsUiJp1K",
        "outputId": "60393c8c-40f0-4a2b-a82f-f2d9fc2a8d2d"
      },
      "source": [
        "# Mounting Google Drive on to the Google Colab instance : \n",
        "from google.colab import drive\n",
        "drive.mount('/content/gdrive',force_remount=True)"
      ],
      "execution_count": null,
      "outputs": [
        {
          "output_type": "stream",
          "text": [
            "Mounted at /content/gdrive\n"
          ],
          "name": "stdout"
        }
      ]
    },
    {
      "cell_type": "code",
      "metadata": {
        "colab": {
          "base_uri": "https://localhost:8080/"
        },
        "id": "ceoqWZRxKPCa",
        "outputId": "51efb16e-e800-4bea-f4ae-e2acf03d0250"
      },
      "source": [
        "!ls /content/gdrive/MyDrive/\n"
      ],
      "execution_count": null,
      "outputs": [
        {
          "output_type": "stream",
          "text": [
            " blogtext.csv\n",
            "'Colab Notebooks'\n",
            " data\n",
            "'Data - Sarcasm Detection.'\n",
            "'Data Set - industrial_safety_and_health_database_with_accidents_description.csv'\n",
            " frames\n",
            "'GL Bot.json'\n",
            " model\n",
            "'Part 2 - training images.zip'\n",
            "'Part 3 - Aligned Face Dataset from Pinterest.zip'\n",
            "'Part 3 - vgg_face_weights.h5'\n",
            "'Part 4 Video.zip'\n",
            " PINS\n",
            " PINS_actual\n",
            " resnet50_weights_tf_dim_ordering_tf_kernels_notop.h5\n",
            " Resume_DevinaParmar-converted.pdf\n",
            " training_images\n",
            " vgg16_weights_tf_dim_ordering_tf_kernels_notop.h5\n",
            " Video\n"
          ],
          "name": "stdout"
        }
      ]
    },
    {
      "cell_type": "code",
      "metadata": {
        "id": "5_SoTJ3hKyw6"
      },
      "source": [
        "import pandas as pd"
      ],
      "execution_count": null,
      "outputs": []
    },
    {
      "cell_type": "code",
      "metadata": {
        "colab": {
          "base_uri": "https://localhost:8080/",
          "height": 306
        },
        "id": "DHRH4_irKpIJ",
        "outputId": "cf704cd8-31e9-4c57-dc32-e6c44fc055e4"
      },
      "source": [
        "data = pd.read_csv(\"/content/gdrive/MyDrive/Data Set - industrial_safety_and_health_database_with_accidents_description.csv\")\n",
        "data.head()"
      ],
      "execution_count": null,
      "outputs": [
        {
          "output_type": "execute_result",
          "data": {
            "text/html": [
              "<div>\n",
              "<style scoped>\n",
              "    .dataframe tbody tr th:only-of-type {\n",
              "        vertical-align: middle;\n",
              "    }\n",
              "\n",
              "    .dataframe tbody tr th {\n",
              "        vertical-align: top;\n",
              "    }\n",
              "\n",
              "    .dataframe thead th {\n",
              "        text-align: right;\n",
              "    }\n",
              "</style>\n",
              "<table border=\"1\" class=\"dataframe\">\n",
              "  <thead>\n",
              "    <tr style=\"text-align: right;\">\n",
              "      <th></th>\n",
              "      <th>Unnamed: 0</th>\n",
              "      <th>Data</th>\n",
              "      <th>Countries</th>\n",
              "      <th>Local</th>\n",
              "      <th>Industry Sector</th>\n",
              "      <th>Accident Level</th>\n",
              "      <th>Potential Accident Level</th>\n",
              "      <th>Genre</th>\n",
              "      <th>Employee or Third Party</th>\n",
              "      <th>Critical Risk</th>\n",
              "      <th>Description</th>\n",
              "    </tr>\n",
              "  </thead>\n",
              "  <tbody>\n",
              "    <tr>\n",
              "      <th>0</th>\n",
              "      <td>0</td>\n",
              "      <td>2016-01-01 00:00:00</td>\n",
              "      <td>Country_01</td>\n",
              "      <td>Local_01</td>\n",
              "      <td>Mining</td>\n",
              "      <td>I</td>\n",
              "      <td>IV</td>\n",
              "      <td>Male</td>\n",
              "      <td>Third Party</td>\n",
              "      <td>Pressed</td>\n",
              "      <td>While removing the drill rod of the Jumbo 08 f...</td>\n",
              "    </tr>\n",
              "    <tr>\n",
              "      <th>1</th>\n",
              "      <td>1</td>\n",
              "      <td>2016-01-02 00:00:00</td>\n",
              "      <td>Country_02</td>\n",
              "      <td>Local_02</td>\n",
              "      <td>Mining</td>\n",
              "      <td>I</td>\n",
              "      <td>IV</td>\n",
              "      <td>Male</td>\n",
              "      <td>Employee</td>\n",
              "      <td>Pressurized Systems</td>\n",
              "      <td>During the activation of a sodium sulphide pum...</td>\n",
              "    </tr>\n",
              "    <tr>\n",
              "      <th>2</th>\n",
              "      <td>2</td>\n",
              "      <td>2016-01-06 00:00:00</td>\n",
              "      <td>Country_01</td>\n",
              "      <td>Local_03</td>\n",
              "      <td>Mining</td>\n",
              "      <td>I</td>\n",
              "      <td>III</td>\n",
              "      <td>Male</td>\n",
              "      <td>Third Party (Remote)</td>\n",
              "      <td>Manual Tools</td>\n",
              "      <td>In the sub-station MILPO located at level +170...</td>\n",
              "    </tr>\n",
              "    <tr>\n",
              "      <th>3</th>\n",
              "      <td>3</td>\n",
              "      <td>2016-01-08 00:00:00</td>\n",
              "      <td>Country_01</td>\n",
              "      <td>Local_04</td>\n",
              "      <td>Mining</td>\n",
              "      <td>I</td>\n",
              "      <td>I</td>\n",
              "      <td>Male</td>\n",
              "      <td>Third Party</td>\n",
              "      <td>Others</td>\n",
              "      <td>Being 9:45 am. approximately in the Nv. 1880 C...</td>\n",
              "    </tr>\n",
              "    <tr>\n",
              "      <th>4</th>\n",
              "      <td>4</td>\n",
              "      <td>2016-01-10 00:00:00</td>\n",
              "      <td>Country_01</td>\n",
              "      <td>Local_04</td>\n",
              "      <td>Mining</td>\n",
              "      <td>IV</td>\n",
              "      <td>IV</td>\n",
              "      <td>Male</td>\n",
              "      <td>Third Party</td>\n",
              "      <td>Others</td>\n",
              "      <td>Approximately at 11:45 a.m. in circumstances t...</td>\n",
              "    </tr>\n",
              "  </tbody>\n",
              "</table>\n",
              "</div>"
            ],
            "text/plain": [
              "   Unnamed: 0  ...                                        Description\n",
              "0           0  ...  While removing the drill rod of the Jumbo 08 f...\n",
              "1           1  ...  During the activation of a sodium sulphide pum...\n",
              "2           2  ...  In the sub-station MILPO located at level +170...\n",
              "3           3  ...  Being 9:45 am. approximately in the Nv. 1880 C...\n",
              "4           4  ...  Approximately at 11:45 a.m. in circumstances t...\n",
              "\n",
              "[5 rows x 11 columns]"
            ]
          },
          "metadata": {
            "tags": []
          },
          "execution_count": 5
        }
      ]
    },
    {
      "cell_type": "markdown",
      "metadata": {
        "id": "__S4XiT0K5QC"
      },
      "source": [
        "Display columns"
      ]
    },
    {
      "cell_type": "code",
      "metadata": {
        "colab": {
          "base_uri": "https://localhost:8080/"
        },
        "id": "tbCCqq7pK1wf",
        "outputId": "047a11c4-f956-405a-9929-f3999f9586ec"
      },
      "source": [
        "data.columns"
      ],
      "execution_count": null,
      "outputs": [
        {
          "output_type": "execute_result",
          "data": {
            "text/plain": [
              "Index(['Unnamed: 0', 'Data', 'Countries', 'Local', 'Industry Sector',\n",
              "       'Accident Level', 'Potential Accident Level', 'Genre',\n",
              "       'Employee or Third Party', 'Critical Risk', 'Description'],\n",
              "      dtype='object')"
            ]
          },
          "metadata": {
            "tags": []
          },
          "execution_count": 6
        }
      ]
    },
    {
      "cell_type": "markdown",
      "metadata": {
        "id": "ANww0I7lK9tx"
      },
      "source": [
        "Rename columns"
      ]
    },
    {
      "cell_type": "code",
      "metadata": {
        "colab": {
          "base_uri": "https://localhost:8080/",
          "height": 210
        },
        "id": "yDckLBkiLDVy",
        "outputId": "cf00a70c-e0d4-4f74-e2ff-fb99c5c32e17"
      },
      "source": [
        "data.drop(\"Unnamed: 0\", axis=1, inplace=True)\n",
        "data.rename(columns={'Data':'Date', 'Countries':'Country', 'Genre':'Gender', 'Employee or Third Party':'Employee type'}, inplace=True)\n",
        "data.head(3)"
      ],
      "execution_count": null,
      "outputs": [
        {
          "output_type": "execute_result",
          "data": {
            "text/html": [
              "<div>\n",
              "<style scoped>\n",
              "    .dataframe tbody tr th:only-of-type {\n",
              "        vertical-align: middle;\n",
              "    }\n",
              "\n",
              "    .dataframe tbody tr th {\n",
              "        vertical-align: top;\n",
              "    }\n",
              "\n",
              "    .dataframe thead th {\n",
              "        text-align: right;\n",
              "    }\n",
              "</style>\n",
              "<table border=\"1\" class=\"dataframe\">\n",
              "  <thead>\n",
              "    <tr style=\"text-align: right;\">\n",
              "      <th></th>\n",
              "      <th>Date</th>\n",
              "      <th>Country</th>\n",
              "      <th>Local</th>\n",
              "      <th>Industry Sector</th>\n",
              "      <th>Accident Level</th>\n",
              "      <th>Potential Accident Level</th>\n",
              "      <th>Gender</th>\n",
              "      <th>Employee type</th>\n",
              "      <th>Critical Risk</th>\n",
              "      <th>Description</th>\n",
              "    </tr>\n",
              "  </thead>\n",
              "  <tbody>\n",
              "    <tr>\n",
              "      <th>0</th>\n",
              "      <td>2016-01-01 00:00:00</td>\n",
              "      <td>Country_01</td>\n",
              "      <td>Local_01</td>\n",
              "      <td>Mining</td>\n",
              "      <td>I</td>\n",
              "      <td>IV</td>\n",
              "      <td>Male</td>\n",
              "      <td>Third Party</td>\n",
              "      <td>Pressed</td>\n",
              "      <td>While removing the drill rod of the Jumbo 08 f...</td>\n",
              "    </tr>\n",
              "    <tr>\n",
              "      <th>1</th>\n",
              "      <td>2016-01-02 00:00:00</td>\n",
              "      <td>Country_02</td>\n",
              "      <td>Local_02</td>\n",
              "      <td>Mining</td>\n",
              "      <td>I</td>\n",
              "      <td>IV</td>\n",
              "      <td>Male</td>\n",
              "      <td>Employee</td>\n",
              "      <td>Pressurized Systems</td>\n",
              "      <td>During the activation of a sodium sulphide pum...</td>\n",
              "    </tr>\n",
              "    <tr>\n",
              "      <th>2</th>\n",
              "      <td>2016-01-06 00:00:00</td>\n",
              "      <td>Country_01</td>\n",
              "      <td>Local_03</td>\n",
              "      <td>Mining</td>\n",
              "      <td>I</td>\n",
              "      <td>III</td>\n",
              "      <td>Male</td>\n",
              "      <td>Third Party (Remote)</td>\n",
              "      <td>Manual Tools</td>\n",
              "      <td>In the sub-station MILPO located at level +170...</td>\n",
              "    </tr>\n",
              "  </tbody>\n",
              "</table>\n",
              "</div>"
            ],
            "text/plain": [
              "                  Date  ...                                        Description\n",
              "0  2016-01-01 00:00:00  ...  While removing the drill rod of the Jumbo 08 f...\n",
              "1  2016-01-02 00:00:00  ...  During the activation of a sodium sulphide pum...\n",
              "2  2016-01-06 00:00:00  ...  In the sub-station MILPO located at level +170...\n",
              "\n",
              "[3 rows x 10 columns]"
            ]
          },
          "metadata": {
            "tags": []
          },
          "execution_count": 7
        }
      ]
    },
    {
      "cell_type": "markdown",
      "metadata": {
        "id": "MhQkFiReLHIK"
      },
      "source": [
        "Display datatypes"
      ]
    },
    {
      "cell_type": "code",
      "metadata": {
        "colab": {
          "base_uri": "https://localhost:8080/"
        },
        "id": "uiHnqW49LJ0C",
        "outputId": "7ca1d5e1-0d34-4d53-bf31-9d7643b61219"
      },
      "source": [
        "data.info()"
      ],
      "execution_count": null,
      "outputs": [
        {
          "output_type": "stream",
          "text": [
            "<class 'pandas.core.frame.DataFrame'>\n",
            "RangeIndex: 425 entries, 0 to 424\n",
            "Data columns (total 10 columns):\n",
            " #   Column                    Non-Null Count  Dtype \n",
            "---  ------                    --------------  ----- \n",
            " 0   Date                      425 non-null    object\n",
            " 1   Country                   425 non-null    object\n",
            " 2   Local                     425 non-null    object\n",
            " 3   Industry Sector           425 non-null    object\n",
            " 4   Accident Level            425 non-null    object\n",
            " 5   Potential Accident Level  425 non-null    object\n",
            " 6   Gender                    425 non-null    object\n",
            " 7   Employee type             425 non-null    object\n",
            " 8   Critical Risk             425 non-null    object\n",
            " 9   Description               425 non-null    object\n",
            "dtypes: object(10)\n",
            "memory usage: 33.3+ KB\n"
          ],
          "name": "stdout"
        }
      ]
    },
    {
      "cell_type": "markdown",
      "metadata": {
        "id": "hhzBB-MALLeL"
      },
      "source": [
        "Display count of unique values per column"
      ]
    },
    {
      "cell_type": "code",
      "metadata": {
        "colab": {
          "base_uri": "https://localhost:8080/"
        },
        "id": "8H7TpCQvLPAy",
        "outputId": "b7deaa36-e4d1-4b01-bd03-6c690f80e3b6"
      },
      "source": [
        "columns = data[data.columns[~data.columns.isin(['Description', 'Unnamed: 0', 'Data'])]].columns.tolist()\n",
        "for cols in columns:\n",
        "    print(f'Unique values for {cols} is \\n{data[cols].unique()}\\nUnique count per label is:\\n{data[cols].value_counts()}\\n')"
      ],
      "execution_count": null,
      "outputs": [
        {
          "output_type": "stream",
          "text": [
            "Unique values for Date is \n",
            "['2016-01-01 00:00:00' '2016-01-02 00:00:00' '2016-01-06 00:00:00'\n",
            " '2016-01-08 00:00:00' '2016-01-10 00:00:00' '2016-01-12 00:00:00'\n",
            " '2016-01-16 00:00:00' '2016-01-17 00:00:00' '2016-01-19 00:00:00'\n",
            " '2016-01-26 00:00:00' '2016-01-28 00:00:00' '2016-01-30 00:00:00'\n",
            " '2016-02-01 00:00:00' '2016-02-02 00:00:00' '2016-02-04 00:00:00'\n",
            " '2016-02-06 00:00:00' '2016-02-07 00:00:00' '2016-02-08 00:00:00'\n",
            " '2016-02-21 00:00:00' '2016-02-25 00:00:00' '2016-02-09 00:00:00'\n",
            " '2016-02-10 00:00:00' '2016-02-15 00:00:00' '2016-02-14 00:00:00'\n",
            " '2016-02-13 00:00:00' '2016-02-16 00:00:00' '2016-02-17 00:00:00'\n",
            " '2016-02-19 00:00:00' '2016-02-20 00:00:00' '2016-02-18 00:00:00'\n",
            " '2016-02-22 00:00:00' '2016-02-24 00:00:00' '2016-02-29 00:00:00'\n",
            " '2016-02-26 00:00:00' '2016-02-27 00:00:00' '2016-03-02 00:00:00'\n",
            " '2016-03-03 00:00:00' '2016-03-04 00:00:00' '2016-03-05 00:00:00'\n",
            " '2016-03-06 00:00:00' '2016-03-09 00:00:00' '2016-03-11 00:00:00'\n",
            " '2016-03-13 00:00:00' '2016-03-12 00:00:00' '2016-03-14 00:00:00'\n",
            " '2016-03-16 00:00:00' '2016-03-10 00:00:00' '2016-03-17 00:00:00'\n",
            " '2016-03-18 00:00:00' '2016-03-19 00:00:00' '2016-03-22 00:00:00'\n",
            " '2016-03-25 00:00:00' '2016-03-30 00:00:00' '2016-03-31 00:00:00'\n",
            " '2016-04-01 00:00:00' '2016-04-03 00:00:00' '2016-04-02 00:00:00'\n",
            " '2016-03-24 00:00:00' '2016-04-04 00:00:00' '2016-04-05 00:00:00'\n",
            " '2016-04-07 00:00:00' '2016-04-08 00:00:00' '2016-04-11 00:00:00'\n",
            " '2016-04-14 00:00:00' '2016-04-16 00:00:00' '2016-04-15 00:00:00'\n",
            " '2016-04-17 00:00:00' '2016-04-18 00:00:00' '2016-04-21 00:00:00'\n",
            " '2016-04-22 00:00:00' '2016-04-23 00:00:00' '2016-04-26 00:00:00'\n",
            " '2016-04-28 00:00:00' '2016-04-29 00:00:00' '2016-04-30 00:00:00'\n",
            " '2016-05-01 00:00:00' '2016-05-02 00:00:00' '2016-05-04 00:00:00'\n",
            " '2016-05-03 00:00:00' '2016-05-05 00:00:00' '2016-05-11 00:00:00'\n",
            " '2016-05-12 00:00:00' '2016-05-14 00:00:00' '2016-05-17 00:00:00'\n",
            " '2016-05-19 00:00:00' '2016-05-18 00:00:00' '2016-05-22 00:00:00'\n",
            " '2016-05-20 00:00:00' '2016-05-24 00:00:00' '2016-05-25 00:00:00'\n",
            " '2016-05-27 00:00:00' '2016-05-26 00:00:00' '2016-06-01 00:00:00'\n",
            " '2016-06-02 00:00:00' '2016-06-03 00:00:00' '2016-06-04 00:00:00'\n",
            " '2016-06-05 00:00:00' '2016-06-08 00:00:00' '2016-06-07 00:00:00'\n",
            " '2016-06-10 00:00:00' '2016-06-13 00:00:00' '2016-06-16 00:00:00'\n",
            " '2016-06-18 00:00:00' '2016-06-17 00:00:00' '2016-06-19 00:00:00'\n",
            " '2016-06-21 00:00:00' '2016-06-22 00:00:00' '2016-06-23 00:00:00'\n",
            " '2016-06-24 00:00:00' '2016-06-29 00:00:00' '2016-07-02 00:00:00'\n",
            " '2016-07-04 00:00:00' '2016-07-08 00:00:00' '2016-07-07 00:00:00'\n",
            " '2016-07-09 00:00:00' '2016-07-10 00:00:00' '2016-07-11 00:00:00'\n",
            " '2016-07-14 00:00:00' '2016-07-15 00:00:00' '2016-07-16 00:00:00'\n",
            " '2016-07-18 00:00:00' '2016-07-20 00:00:00' '2016-07-21 00:00:00'\n",
            " '2016-07-23 00:00:00' '2016-07-27 00:00:00' '2016-07-29 00:00:00'\n",
            " '2016-07-30 00:00:00' '2016-08-02 00:00:00' '2016-08-01 00:00:00'\n",
            " '2016-08-04 00:00:00' '2016-08-11 00:00:00' '2016-08-12 00:00:00'\n",
            " '2016-08-14 00:00:00' '2016-08-15 00:00:00' '2016-08-18 00:00:00'\n",
            " '2016-08-19 00:00:00' '2016-08-22 00:00:00' '2016-08-24 00:00:00'\n",
            " '2016-08-25 00:00:00' '2016-08-29 00:00:00' '2016-08-27 00:00:00'\n",
            " '2016-08-30 00:00:00' '2016-09-01 00:00:00' '2016-09-02 00:00:00'\n",
            " '2016-09-04 00:00:00' '2016-09-03 00:00:00' '2016-09-06 00:00:00'\n",
            " '2016-09-05 00:00:00' '2016-09-13 00:00:00' '2016-09-12 00:00:00'\n",
            " '2016-09-15 00:00:00' '2016-09-17 00:00:00' '2016-09-16 00:00:00'\n",
            " '2016-09-20 00:00:00' '2016-09-21 00:00:00' '2016-09-22 00:00:00'\n",
            " '2016-09-27 00:00:00' '2016-09-29 00:00:00' '2016-09-30 00:00:00'\n",
            " '2016-10-01 00:00:00' '2016-10-03 00:00:00' '2016-10-04 00:00:00'\n",
            " '2016-10-08 00:00:00' '2016-10-10 00:00:00' '2016-10-11 00:00:00'\n",
            " '2016-10-13 00:00:00' '2016-10-18 00:00:00' '2016-10-20 00:00:00'\n",
            " '2016-10-23 00:00:00' '2016-10-24 00:00:00' '2016-10-26 00:00:00'\n",
            " '2016-10-27 00:00:00' '2016-10-29 00:00:00' '2016-11-04 00:00:00'\n",
            " '2016-11-08 00:00:00' '2016-11-11 00:00:00' '2016-11-13 00:00:00'\n",
            " '2016-11-19 00:00:00' '2016-11-21 00:00:00' '2016-11-23 00:00:00'\n",
            " '2016-11-25 00:00:00' '2016-11-28 00:00:00' '2016-11-29 00:00:00'\n",
            " '2016-11-30 00:00:00' '2016-12-01 00:00:00' '2016-12-08 00:00:00'\n",
            " '2016-12-09 00:00:00' '2016-12-10 00:00:00' '2016-12-12 00:00:00'\n",
            " '2016-12-13 00:00:00' '2016-12-15 00:00:00' '2016-12-16 00:00:00'\n",
            " '2016-12-19 00:00:00' '2016-12-23 00:00:00' '2016-12-22 00:00:00'\n",
            " '2016-12-26 00:00:00' '2016-12-28 00:00:00' '2016-12-30 00:00:00'\n",
            " '2016-12-31 00:00:00' '2017-01-02 00:00:00' '2017-01-05 00:00:00'\n",
            " '2017-01-06 00:00:00' '2017-01-07 00:00:00' '2017-01-08 00:00:00'\n",
            " '2017-01-09 00:00:00' '2017-01-10 00:00:00' '2017-01-12 00:00:00'\n",
            " '2017-01-14 00:00:00' '2017-01-17 00:00:00' '2017-01-20 00:00:00'\n",
            " '2017-01-21 00:00:00' '2017-01-23 00:00:00' '2017-01-24 00:00:00'\n",
            " '2017-01-25 00:00:00' '2017-01-27 00:00:00' '2017-01-29 00:00:00'\n",
            " '2017-01-28 00:00:00' '2017-01-31 00:00:00' '2017-02-01 00:00:00'\n",
            " '2017-02-04 00:00:00' '2017-02-05 00:00:00' '2017-02-07 00:00:00'\n",
            " '2017-02-08 00:00:00' '2017-02-09 00:00:00' '2017-02-13 00:00:00'\n",
            " '2017-02-14 00:00:00' '2017-02-15 00:00:00' '2017-02-16 00:00:00'\n",
            " '2017-02-17 00:00:00' '2017-02-23 00:00:00' '2017-02-25 00:00:00'\n",
            " '2017-02-26 00:00:00' '2017-02-27 00:00:00' '2017-03-01 00:00:00'\n",
            " '2017-03-02 00:00:00' '2017-03-04 00:00:00' '2017-03-06 00:00:00'\n",
            " '2017-03-08 00:00:00' '2017-03-09 00:00:00' '2017-03-10 00:00:00'\n",
            " '2017-03-15 00:00:00' '2017-03-18 00:00:00' '2017-03-22 00:00:00'\n",
            " '2017-03-25 00:00:00' '2017-03-31 00:00:00' '2017-04-04 00:00:00'\n",
            " '2017-04-05 00:00:00' '2017-04-07 00:00:00' '2017-04-06 00:00:00'\n",
            " '2017-04-10 00:00:00' '2017-04-08 00:00:00' '2017-04-11 00:00:00'\n",
            " '2017-04-13 00:00:00' '2017-04-12 00:00:00' '2017-04-23 00:00:00'\n",
            " '2017-04-19 00:00:00' '2017-04-25 00:00:00' '2017-04-24 00:00:00'\n",
            " '2017-04-28 00:00:00' '2017-04-29 00:00:00' '2017-04-30 00:00:00'\n",
            " '2017-05-05 00:00:00' '2017-05-06 00:00:00' '2017-05-10 00:00:00'\n",
            " '2017-05-16 00:00:00' '2017-05-17 00:00:00' '2017-05-18 00:00:00'\n",
            " '2017-05-19 00:00:00' '2017-05-23 00:00:00' '2017-05-30 00:00:00'\n",
            " '2017-06-04 00:00:00' '2017-06-09 00:00:00' '2017-06-11 00:00:00'\n",
            " '2017-06-14 00:00:00' '2017-06-15 00:00:00' '2017-06-17 00:00:00'\n",
            " '2017-06-18 00:00:00' '2017-06-24 00:00:00' '2017-06-20 00:00:00'\n",
            " '2017-06-23 00:00:00' '2017-06-19 00:00:00' '2017-06-22 00:00:00'\n",
            " '2017-06-29 00:00:00' '2017-07-04 00:00:00' '2017-07-05 00:00:00'\n",
            " '2017-07-06 00:00:00' '2017-07-09 00:00:00']\n",
            "Unique count per label is:\n",
            "2017-02-08 00:00:00    6\n",
            "2016-06-16 00:00:00    5\n",
            "2017-06-11 00:00:00    4\n",
            "2016-06-08 00:00:00    4\n",
            "2016-05-04 00:00:00    4\n",
            "                      ..\n",
            "2017-03-31 00:00:00    1\n",
            "2017-02-04 00:00:00    1\n",
            "2016-06-19 00:00:00    1\n",
            "2016-01-17 00:00:00    1\n",
            "2016-01-16 00:00:00    1\n",
            "Name: Date, Length: 287, dtype: int64\n",
            "\n",
            "Unique values for Country is \n",
            "['Country_01' 'Country_02' 'Country_03']\n",
            "Unique count per label is:\n",
            "Country_01    251\n",
            "Country_02    130\n",
            "Country_03     44\n",
            "Name: Country, dtype: int64\n",
            "\n",
            "Unique values for Local is \n",
            "['Local_01' 'Local_02' 'Local_03' 'Local_04' 'Local_05' 'Local_06'\n",
            " 'Local_07' 'Local_08' 'Local_10' 'Local_09' 'Local_11' 'Local_12']\n",
            "Unique count per label is:\n",
            "Local_03    90\n",
            "Local_05    59\n",
            "Local_01    57\n",
            "Local_04    56\n",
            "Local_06    46\n",
            "Local_10    44\n",
            "Local_08    27\n",
            "Local_02    24\n",
            "Local_07    14\n",
            "Local_12     4\n",
            "Local_09     2\n",
            "Local_11     2\n",
            "Name: Local, dtype: int64\n",
            "\n",
            "Unique values for Industry Sector is \n",
            "['Mining' 'Metals' 'Others']\n",
            "Unique count per label is:\n",
            "Mining    241\n",
            "Metals    134\n",
            "Others     50\n",
            "Name: Industry Sector, dtype: int64\n",
            "\n",
            "Unique values for Accident Level is \n",
            "['I' 'IV' 'III' 'II' 'V']\n",
            "Unique count per label is:\n",
            "I      316\n",
            "II      40\n",
            "III     31\n",
            "IV      30\n",
            "V        8\n",
            "Name: Accident Level, dtype: int64\n",
            "\n",
            "Unique values for Potential Accident Level is \n",
            "['IV' 'III' 'I' 'II' 'V' 'VI']\n",
            "Unique count per label is:\n",
            "IV     143\n",
            "III    106\n",
            "II      95\n",
            "I       49\n",
            "V       31\n",
            "VI       1\n",
            "Name: Potential Accident Level, dtype: int64\n",
            "\n",
            "Unique values for Gender is \n",
            "['Male' 'Female']\n",
            "Unique count per label is:\n",
            "Male      403\n",
            "Female     22\n",
            "Name: Gender, dtype: int64\n",
            "\n",
            "Unique values for Employee type is \n",
            "['Third Party' 'Employee' 'Third Party (Remote)']\n",
            "Unique count per label is:\n",
            "Third Party             189\n",
            "Employee                179\n",
            "Third Party (Remote)     57\n",
            "Name: Employee type, dtype: int64\n",
            "\n",
            "Unique values for Critical Risk is \n",
            "['Pressed' 'Pressurized Systems' 'Manual Tools' 'Others'\n",
            " 'Fall prevention (same level)' 'Chemical substances' 'Liquid Metal'\n",
            " 'Electrical installation' 'Confined space'\n",
            " 'Pressurized Systems / Chemical Substances'\n",
            " 'Blocking and isolation of energies' 'Suspended Loads' 'Poll' 'Cut'\n",
            " 'Fall' 'Bees' 'Fall prevention' '\\nNot applicable' 'Traffic' 'Projection'\n",
            " 'Venomous Animals' 'Plates' 'Projection/Burning' 'remains of choco'\n",
            " 'Vehicles and Mobile Equipment' 'Projection/Choco' 'Machine Protection'\n",
            " 'Power lock' 'Burn' 'Projection/Manual Tools'\n",
            " 'Individual protection equipment' 'Electrical Shock'\n",
            " 'Projection of fragments']\n",
            "Unique count per label is:\n",
            "Others                                       232\n",
            "Pressed                                       24\n",
            "Manual Tools                                  20\n",
            "Chemical substances                           17\n",
            "Venomous Animals                              16\n",
            "Cut                                           14\n",
            "Projection                                    13\n",
            "Bees                                          10\n",
            "Fall                                           9\n",
            "Vehicles and Mobile Equipment                  8\n",
            "remains of choco                               7\n",
            "Pressurized Systems                            7\n",
            "Fall prevention (same level)                   7\n",
            "Suspended Loads                                6\n",
            "Fall prevention                                6\n",
            "Pressurized Systems / Chemical Substances      3\n",
            "Liquid Metal                                   3\n",
            "Power lock                                     3\n",
            "Blocking and isolation of energies             3\n",
            "Electrical Shock                               2\n",
            "Machine Protection                             2\n",
            "Projection of fragments                        2\n",
            "Traffic                                        1\n",
            "Poll                                           1\n",
            "Plates                                         1\n",
            "Electrical installation                        1\n",
            "Projection/Burning                             1\n",
            "\\nNot applicable                               1\n",
            "Confined space                                 1\n",
            "Projection/Choco                               1\n",
            "Individual protection equipment                1\n",
            "Projection/Manual Tools                        1\n",
            "Burn                                           1\n",
            "Name: Critical Risk, dtype: int64\n",
            "\n"
          ],
          "name": "stdout"
        }
      ]
    },
    {
      "cell_type": "markdown",
      "metadata": {
        "id": "5Jto5FUYLcUi"
      },
      "source": [
        "Replace categorical values"
      ]
    },
    {
      "cell_type": "code",
      "metadata": {
        "id": "Hmk0Y8IgLVIZ"
      },
      "source": [
        "# replacing categorical values\n",
        "replace_struc = {'Local_01': 1, 'Local_02': 2, 'Local_03': 3, 'Local_04': 4, 'Local_05': 5, 'Local_06': 6, 'Local_07': 7, 'Local_08': 8, 'Local_09': 9, 'Local_10': 10, 'Local_11': 11, 'Local_12': 12}\n",
        "data['Local'] = data['Local'].map(replace_struc)\n",
        "replace_struc = {'I': 0, 'II': 1, 'III': 3, 'IV': 4, 'V': 5}\n",
        "data['Accident Level'] = data['Accident Level'].map(replace_struc)\n",
        "replace_struc = {'I': 0, 'II': 1, 'III': 3, 'IV': 4, 'V': 5, 'VI': 6}\n",
        "data['Potential Accident Level'] = data['Potential Accident Level'].map(replace_struc)\n",
        "del replace_struc"
      ],
      "execution_count": null,
      "outputs": []
    },
    {
      "cell_type": "code",
      "metadata": {
        "colab": {
          "base_uri": "https://localhost:8080/",
          "height": 340
        },
        "id": "Hc2Ia04jLoBq",
        "outputId": "a32239e1-c1e7-42b6-993d-6313a2b7fe92"
      },
      "source": [
        "print(f'Dataset after mapping categorical values\\n')\n",
        "data.head()"
      ],
      "execution_count": null,
      "outputs": [
        {
          "output_type": "stream",
          "text": [
            "Dataset after mapping categorical values\n",
            "\n"
          ],
          "name": "stdout"
        },
        {
          "output_type": "execute_result",
          "data": {
            "text/html": [
              "<div>\n",
              "<style scoped>\n",
              "    .dataframe tbody tr th:only-of-type {\n",
              "        vertical-align: middle;\n",
              "    }\n",
              "\n",
              "    .dataframe tbody tr th {\n",
              "        vertical-align: top;\n",
              "    }\n",
              "\n",
              "    .dataframe thead th {\n",
              "        text-align: right;\n",
              "    }\n",
              "</style>\n",
              "<table border=\"1\" class=\"dataframe\">\n",
              "  <thead>\n",
              "    <tr style=\"text-align: right;\">\n",
              "      <th></th>\n",
              "      <th>Date</th>\n",
              "      <th>Country</th>\n",
              "      <th>Local</th>\n",
              "      <th>Industry Sector</th>\n",
              "      <th>Accident Level</th>\n",
              "      <th>Potential Accident Level</th>\n",
              "      <th>Gender</th>\n",
              "      <th>Employee type</th>\n",
              "      <th>Critical Risk</th>\n",
              "      <th>Description</th>\n",
              "    </tr>\n",
              "  </thead>\n",
              "  <tbody>\n",
              "    <tr>\n",
              "      <th>0</th>\n",
              "      <td>2016-01-01 00:00:00</td>\n",
              "      <td>Country_01</td>\n",
              "      <td>1</td>\n",
              "      <td>Mining</td>\n",
              "      <td>0</td>\n",
              "      <td>4</td>\n",
              "      <td>Male</td>\n",
              "      <td>Third Party</td>\n",
              "      <td>Pressed</td>\n",
              "      <td>While removing the drill rod of the Jumbo 08 f...</td>\n",
              "    </tr>\n",
              "    <tr>\n",
              "      <th>1</th>\n",
              "      <td>2016-01-02 00:00:00</td>\n",
              "      <td>Country_02</td>\n",
              "      <td>2</td>\n",
              "      <td>Mining</td>\n",
              "      <td>0</td>\n",
              "      <td>4</td>\n",
              "      <td>Male</td>\n",
              "      <td>Employee</td>\n",
              "      <td>Pressurized Systems</td>\n",
              "      <td>During the activation of a sodium sulphide pum...</td>\n",
              "    </tr>\n",
              "    <tr>\n",
              "      <th>2</th>\n",
              "      <td>2016-01-06 00:00:00</td>\n",
              "      <td>Country_01</td>\n",
              "      <td>3</td>\n",
              "      <td>Mining</td>\n",
              "      <td>0</td>\n",
              "      <td>3</td>\n",
              "      <td>Male</td>\n",
              "      <td>Third Party (Remote)</td>\n",
              "      <td>Manual Tools</td>\n",
              "      <td>In the sub-station MILPO located at level +170...</td>\n",
              "    </tr>\n",
              "    <tr>\n",
              "      <th>3</th>\n",
              "      <td>2016-01-08 00:00:00</td>\n",
              "      <td>Country_01</td>\n",
              "      <td>4</td>\n",
              "      <td>Mining</td>\n",
              "      <td>0</td>\n",
              "      <td>0</td>\n",
              "      <td>Male</td>\n",
              "      <td>Third Party</td>\n",
              "      <td>Others</td>\n",
              "      <td>Being 9:45 am. approximately in the Nv. 1880 C...</td>\n",
              "    </tr>\n",
              "    <tr>\n",
              "      <th>4</th>\n",
              "      <td>2016-01-10 00:00:00</td>\n",
              "      <td>Country_01</td>\n",
              "      <td>4</td>\n",
              "      <td>Mining</td>\n",
              "      <td>4</td>\n",
              "      <td>4</td>\n",
              "      <td>Male</td>\n",
              "      <td>Third Party</td>\n",
              "      <td>Others</td>\n",
              "      <td>Approximately at 11:45 a.m. in circumstances t...</td>\n",
              "    </tr>\n",
              "  </tbody>\n",
              "</table>\n",
              "</div>"
            ],
            "text/plain": [
              "                  Date  ...                                        Description\n",
              "0  2016-01-01 00:00:00  ...  While removing the drill rod of the Jumbo 08 f...\n",
              "1  2016-01-02 00:00:00  ...  During the activation of a sodium sulphide pum...\n",
              "2  2016-01-06 00:00:00  ...  In the sub-station MILPO located at level +170...\n",
              "3  2016-01-08 00:00:00  ...  Being 9:45 am. approximately in the Nv. 1880 C...\n",
              "4  2016-01-10 00:00:00  ...  Approximately at 11:45 a.m. in circumstances t...\n",
              "\n",
              "[5 rows x 10 columns]"
            ]
          },
          "metadata": {
            "tags": []
          },
          "execution_count": 11
        }
      ]
    },
    {
      "cell_type": "markdown",
      "metadata": {
        "id": "-mTPmw_fLgIa"
      },
      "source": [
        "Check for null values"
      ]
    },
    {
      "cell_type": "code",
      "metadata": {
        "colab": {
          "base_uri": "https://localhost:8080/"
        },
        "id": "rPomyFB9Lubk",
        "outputId": "e2065d6c-0a62-4a68-c984-9d118aa8c9fd"
      },
      "source": [
        "data.isnull().sum()"
      ],
      "execution_count": null,
      "outputs": [
        {
          "output_type": "execute_result",
          "data": {
            "text/plain": [
              "Date                        0\n",
              "Country                     0\n",
              "Local                       0\n",
              "Industry Sector             0\n",
              "Accident Level              0\n",
              "Potential Accident Level    0\n",
              "Gender                      0\n",
              "Employee type               0\n",
              "Critical Risk               0\n",
              "Description                 0\n",
              "dtype: int64"
            ]
          },
          "metadata": {
            "tags": []
          },
          "execution_count": 12
        }
      ]
    },
    {
      "cell_type": "code",
      "metadata": {
        "colab": {
          "base_uri": "https://localhost:8080/"
        },
        "id": "AMoFPMiuLykr",
        "outputId": "d887f9f9-0f5f-4de3-b8af-c00d3f4c22bc"
      },
      "source": [
        "data.shape"
      ],
      "execution_count": null,
      "outputs": [
        {
          "output_type": "execute_result",
          "data": {
            "text/plain": [
              "(425, 10)"
            ]
          },
          "metadata": {
            "tags": []
          },
          "execution_count": 13
        }
      ]
    },
    {
      "cell_type": "markdown",
      "metadata": {
        "id": "LEVl-cQZL5_6"
      },
      "source": [
        ""
      ]
    }
  ]
}