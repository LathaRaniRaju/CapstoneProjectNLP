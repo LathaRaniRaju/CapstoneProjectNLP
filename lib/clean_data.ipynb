{
 "metadata": {
  "language_info": {
   "codemirror_mode": {
    "name": "ipython",
    "version": 3
   },
   "file_extension": ".py",
   "mimetype": "text/x-python",
   "name": "python",
   "nbconvert_exporter": "python",
   "pygments_lexer": "ipython3",
   "version": "3.7.6"
  },
  "orig_nbformat": 2,
  "kernelspec": {
   "name": "python376jvsc74a57bd076b22109cdd745f36b1485fe0c33457003cccd0e9d2b9f9705a884f4a1682f7f",
   "display_name": "Python 3.7.6 64-bit ('base': conda)"
  }
 },
 "nbformat": 4,
 "nbformat_minor": 2,
 "cells": [
  {
   "cell_type": "code",
   "execution_count": 1,
   "metadata": {},
   "outputs": [],
   "source": [
    "import numpy as np\n",
    "import pandas as pd\n",
    "import matplotlib.pyplot as plt\n",
    "import seaborn as sns"
   ]
  },
  {
   "cell_type": "code",
   "execution_count": 2,
   "metadata": {},
   "outputs": [],
   "source": [
    "accident_safety_data=pd.read_csv(\"C:/Applications/Machine Learning/NLP/CapstoneProjectNLP/data/hse_data.csv\")"
   ]
  },
  {
   "cell_type": "code",
   "execution_count": 3,
   "metadata": {},
   "outputs": [
    {
     "output_type": "execute_result",
     "data": {
      "text/plain": [
       "   Unnamed: 0                 Data   Countries     Local Industry Sector  \\\n",
       "0           0  2016-01-01 00:00:00  Country_01  Local_01          Mining   \n",
       "1           1  2016-01-02 00:00:00  Country_02  Local_02          Mining   \n",
       "2           2  2016-01-06 00:00:00  Country_01  Local_03          Mining   \n",
       "3           3  2016-01-08 00:00:00  Country_01  Local_04          Mining   \n",
       "4           4  2016-01-10 00:00:00  Country_01  Local_04          Mining   \n",
       "\n",
       "  Accident Level Potential Accident Level Genre Employee or Third Party  \\\n",
       "0              I                       IV  Male             Third Party   \n",
       "1              I                       IV  Male                Employee   \n",
       "2              I                      III  Male    Third Party (Remote)   \n",
       "3              I                        I  Male             Third Party   \n",
       "4             IV                       IV  Male             Third Party   \n",
       "\n",
       "         Critical Risk                                        Description  \n",
       "0              Pressed  While removing the drill rod of the Jumbo 08 f...  \n",
       "1  Pressurized Systems  During the activation of a sodium sulphide pum...  \n",
       "2         Manual Tools  In the sub-station MILPO located at level +170...  \n",
       "3               Others  Being 9:45 am. approximately in the Nv. 1880 C...  \n",
       "4               Others  Approximately at 11:45 a.m. in circumstances t...  "
      ],
      "text/html": "<div>\n<style scoped>\n    .dataframe tbody tr th:only-of-type {\n        vertical-align: middle;\n    }\n\n    .dataframe tbody tr th {\n        vertical-align: top;\n    }\n\n    .dataframe thead th {\n        text-align: right;\n    }\n</style>\n<table border=\"1\" class=\"dataframe\">\n  <thead>\n    <tr style=\"text-align: right;\">\n      <th></th>\n      <th>Unnamed: 0</th>\n      <th>Data</th>\n      <th>Countries</th>\n      <th>Local</th>\n      <th>Industry Sector</th>\n      <th>Accident Level</th>\n      <th>Potential Accident Level</th>\n      <th>Genre</th>\n      <th>Employee or Third Party</th>\n      <th>Critical Risk</th>\n      <th>Description</th>\n    </tr>\n  </thead>\n  <tbody>\n    <tr>\n      <th>0</th>\n      <td>0</td>\n      <td>2016-01-01 00:00:00</td>\n      <td>Country_01</td>\n      <td>Local_01</td>\n      <td>Mining</td>\n      <td>I</td>\n      <td>IV</td>\n      <td>Male</td>\n      <td>Third Party</td>\n      <td>Pressed</td>\n      <td>While removing the drill rod of the Jumbo 08 f...</td>\n    </tr>\n    <tr>\n      <th>1</th>\n      <td>1</td>\n      <td>2016-01-02 00:00:00</td>\n      <td>Country_02</td>\n      <td>Local_02</td>\n      <td>Mining</td>\n      <td>I</td>\n      <td>IV</td>\n      <td>Male</td>\n      <td>Employee</td>\n      <td>Pressurized Systems</td>\n      <td>During the activation of a sodium sulphide pum...</td>\n    </tr>\n    <tr>\n      <th>2</th>\n      <td>2</td>\n      <td>2016-01-06 00:00:00</td>\n      <td>Country_01</td>\n      <td>Local_03</td>\n      <td>Mining</td>\n      <td>I</td>\n      <td>III</td>\n      <td>Male</td>\n      <td>Third Party (Remote)</td>\n      <td>Manual Tools</td>\n      <td>In the sub-station MILPO located at level +170...</td>\n    </tr>\n    <tr>\n      <th>3</th>\n      <td>3</td>\n      <td>2016-01-08 00:00:00</td>\n      <td>Country_01</td>\n      <td>Local_04</td>\n      <td>Mining</td>\n      <td>I</td>\n      <td>I</td>\n      <td>Male</td>\n      <td>Third Party</td>\n      <td>Others</td>\n      <td>Being 9:45 am. approximately in the Nv. 1880 C...</td>\n    </tr>\n    <tr>\n      <th>4</th>\n      <td>4</td>\n      <td>2016-01-10 00:00:00</td>\n      <td>Country_01</td>\n      <td>Local_04</td>\n      <td>Mining</td>\n      <td>IV</td>\n      <td>IV</td>\n      <td>Male</td>\n      <td>Third Party</td>\n      <td>Others</td>\n      <td>Approximately at 11:45 a.m. in circumstances t...</td>\n    </tr>\n  </tbody>\n</table>\n</div>"
     },
     "metadata": {},
     "execution_count": 3
    }
   ],
   "source": [
    "accident_safety_data.head()"
   ]
  },
  {
   "cell_type": "code",
   "execution_count": 4,
   "metadata": {},
   "outputs": [
    {
     "output_type": "execute_result",
     "data": {
      "text/plain": [
       "Index(['Unnamed: 0', 'Data', 'Countries', 'Local', 'Industry Sector',\n",
       "       'Accident Level', 'Potential Accident Level', 'Genre',\n",
       "       'Employee or Third Party', 'Critical Risk', 'Description'],\n",
       "      dtype='object')"
      ]
     },
     "metadata": {},
     "execution_count": 4
    }
   ],
   "source": [
    "accident_safety_data.columns"
   ]
  },
  {
   "source": [
    "We can see that the columns \"Unnamed\" is unwanted, as it will not help us in our analysis. \n",
    "Also, Data column should be renamed to \"Date\". Therefore, let's drop the column \"Unnamed\" and rename the column \"Data\" to \"Date\""
   ],
   "cell_type": "markdown",
   "metadata": {}
  },
  {
   "cell_type": "code",
   "execution_count": 6,
   "metadata": {},
   "outputs": [
    {
     "output_type": "execute_result",
     "data": {
      "text/plain": [
       "   Unnamed: 0                 Data   Countries     Local Industry Sector  \\\n",
       "0           0  2016-01-01 00:00:00  Country_01  Local_01          Mining   \n",
       "1           1  2016-01-02 00:00:00  Country_02  Local_02          Mining   \n",
       "2           2  2016-01-06 00:00:00  Country_01  Local_03          Mining   \n",
       "3           3  2016-01-08 00:00:00  Country_01  Local_04          Mining   \n",
       "4           4  2016-01-10 00:00:00  Country_01  Local_04          Mining   \n",
       "\n",
       "  Accident Level Potential Accident Level Genre Employee or Third Party  \\\n",
       "0              I                       IV  Male             Third Party   \n",
       "1              I                       IV  Male                Employee   \n",
       "2              I                      III  Male    Third Party (Remote)   \n",
       "3              I                        I  Male             Third Party   \n",
       "4             IV                       IV  Male             Third Party   \n",
       "\n",
       "         Critical Risk                                        Description  \n",
       "0              Pressed  While removing the drill rod of the Jumbo 08 f...  \n",
       "1  Pressurized Systems  During the activation of a sodium sulphide pum...  \n",
       "2         Manual Tools  In the sub-station MILPO located at level +170...  \n",
       "3               Others  Being 9:45 am. approximately in the Nv. 1880 C...  \n",
       "4               Others  Approximately at 11:45 a.m. in circumstances t...  "
      ],
      "text/html": "<div>\n<style scoped>\n    .dataframe tbody tr th:only-of-type {\n        vertical-align: middle;\n    }\n\n    .dataframe tbody tr th {\n        vertical-align: top;\n    }\n\n    .dataframe thead th {\n        text-align: right;\n    }\n</style>\n<table border=\"1\" class=\"dataframe\">\n  <thead>\n    <tr style=\"text-align: right;\">\n      <th></th>\n      <th>Unnamed: 0</th>\n      <th>Data</th>\n      <th>Countries</th>\n      <th>Local</th>\n      <th>Industry Sector</th>\n      <th>Accident Level</th>\n      <th>Potential Accident Level</th>\n      <th>Genre</th>\n      <th>Employee or Third Party</th>\n      <th>Critical Risk</th>\n      <th>Description</th>\n    </tr>\n  </thead>\n  <tbody>\n    <tr>\n      <th>0</th>\n      <td>0</td>\n      <td>2016-01-01 00:00:00</td>\n      <td>Country_01</td>\n      <td>Local_01</td>\n      <td>Mining</td>\n      <td>I</td>\n      <td>IV</td>\n      <td>Male</td>\n      <td>Third Party</td>\n      <td>Pressed</td>\n      <td>While removing the drill rod of the Jumbo 08 f...</td>\n    </tr>\n    <tr>\n      <th>1</th>\n      <td>1</td>\n      <td>2016-01-02 00:00:00</td>\n      <td>Country_02</td>\n      <td>Local_02</td>\n      <td>Mining</td>\n      <td>I</td>\n      <td>IV</td>\n      <td>Male</td>\n      <td>Employee</td>\n      <td>Pressurized Systems</td>\n      <td>During the activation of a sodium sulphide pum...</td>\n    </tr>\n    <tr>\n      <th>2</th>\n      <td>2</td>\n      <td>2016-01-06 00:00:00</td>\n      <td>Country_01</td>\n      <td>Local_03</td>\n      <td>Mining</td>\n      <td>I</td>\n      <td>III</td>\n      <td>Male</td>\n      <td>Third Party (Remote)</td>\n      <td>Manual Tools</td>\n      <td>In the sub-station MILPO located at level +170...</td>\n    </tr>\n    <tr>\n      <th>3</th>\n      <td>3</td>\n      <td>2016-01-08 00:00:00</td>\n      <td>Country_01</td>\n      <td>Local_04</td>\n      <td>Mining</td>\n      <td>I</td>\n      <td>I</td>\n      <td>Male</td>\n      <td>Third Party</td>\n      <td>Others</td>\n      <td>Being 9:45 am. approximately in the Nv. 1880 C...</td>\n    </tr>\n    <tr>\n      <th>4</th>\n      <td>4</td>\n      <td>2016-01-10 00:00:00</td>\n      <td>Country_01</td>\n      <td>Local_04</td>\n      <td>Mining</td>\n      <td>IV</td>\n      <td>IV</td>\n      <td>Male</td>\n      <td>Third Party</td>\n      <td>Others</td>\n      <td>Approximately at 11:45 a.m. in circumstances t...</td>\n    </tr>\n  </tbody>\n</table>\n</div>"
     },
     "metadata": {},
     "execution_count": 6
    }
   ],
   "source": [
    "#create a backup of the dataset before we make any changes to it\n",
    "accident_safety_data_new=accident_safety_data\n",
    "accident_safety_data_new.head()"
   ]
  },
  {
   "cell_type": "code",
   "execution_count": 7,
   "metadata": {},
   "outputs": [],
   "source": [
    "#dropping \"Unnamed\" column\n",
    "accident_safety_data_new.drop('Unnamed: 0',axis='columns', inplace=True)\n",
    "#renaming \"Data\" column to \"Date\"\n",
    "accident_safety_data_new.rename(columns = {'Data':'Date'}, inplace = True)"
   ]
  },
  {
   "cell_type": "code",
   "execution_count": 8,
   "metadata": {},
   "outputs": [
    {
     "output_type": "execute_result",
     "data": {
      "text/plain": [
       "(425, 10)"
      ]
     },
     "metadata": {},
     "execution_count": 8
    }
   ],
   "source": [
    "#Let us check the shape of our dataset\n",
    "accident_safety_data_new.shape"
   ]
  },
  {
   "source": [
    "We can see that the dataset has 425 rows and 10 columns"
   ],
   "cell_type": "markdown",
   "metadata": {}
  },
  {
   "cell_type": "code",
   "execution_count": 9,
   "metadata": {},
   "outputs": [
    {
     "output_type": "execute_result",
     "data": {
      "text/plain": [
       "                  Date   Countries     Local Industry Sector Accident Level  \\\n",
       "0  2016-01-01 00:00:00  Country_01  Local_01          Mining              I   \n",
       "1  2016-01-02 00:00:00  Country_02  Local_02          Mining              I   \n",
       "2  2016-01-06 00:00:00  Country_01  Local_03          Mining              I   \n",
       "3  2016-01-08 00:00:00  Country_01  Local_04          Mining              I   \n",
       "4  2016-01-10 00:00:00  Country_01  Local_04          Mining             IV   \n",
       "\n",
       "  Potential Accident Level Genre Employee or Third Party        Critical Risk  \\\n",
       "0                       IV  Male             Third Party              Pressed   \n",
       "1                       IV  Male                Employee  Pressurized Systems   \n",
       "2                      III  Male    Third Party (Remote)         Manual Tools   \n",
       "3                        I  Male             Third Party               Others   \n",
       "4                       IV  Male             Third Party               Others   \n",
       "\n",
       "                                         Description  \n",
       "0  While removing the drill rod of the Jumbo 08 f...  \n",
       "1  During the activation of a sodium sulphide pum...  \n",
       "2  In the sub-station MILPO located at level +170...  \n",
       "3  Being 9:45 am. approximately in the Nv. 1880 C...  \n",
       "4  Approximately at 11:45 a.m. in circumstances t...  "
      ],
      "text/html": "<div>\n<style scoped>\n    .dataframe tbody tr th:only-of-type {\n        vertical-align: middle;\n    }\n\n    .dataframe tbody tr th {\n        vertical-align: top;\n    }\n\n    .dataframe thead th {\n        text-align: right;\n    }\n</style>\n<table border=\"1\" class=\"dataframe\">\n  <thead>\n    <tr style=\"text-align: right;\">\n      <th></th>\n      <th>Date</th>\n      <th>Countries</th>\n      <th>Local</th>\n      <th>Industry Sector</th>\n      <th>Accident Level</th>\n      <th>Potential Accident Level</th>\n      <th>Genre</th>\n      <th>Employee or Third Party</th>\n      <th>Critical Risk</th>\n      <th>Description</th>\n    </tr>\n  </thead>\n  <tbody>\n    <tr>\n      <th>0</th>\n      <td>2016-01-01 00:00:00</td>\n      <td>Country_01</td>\n      <td>Local_01</td>\n      <td>Mining</td>\n      <td>I</td>\n      <td>IV</td>\n      <td>Male</td>\n      <td>Third Party</td>\n      <td>Pressed</td>\n      <td>While removing the drill rod of the Jumbo 08 f...</td>\n    </tr>\n    <tr>\n      <th>1</th>\n      <td>2016-01-02 00:00:00</td>\n      <td>Country_02</td>\n      <td>Local_02</td>\n      <td>Mining</td>\n      <td>I</td>\n      <td>IV</td>\n      <td>Male</td>\n      <td>Employee</td>\n      <td>Pressurized Systems</td>\n      <td>During the activation of a sodium sulphide pum...</td>\n    </tr>\n    <tr>\n      <th>2</th>\n      <td>2016-01-06 00:00:00</td>\n      <td>Country_01</td>\n      <td>Local_03</td>\n      <td>Mining</td>\n      <td>I</td>\n      <td>III</td>\n      <td>Male</td>\n      <td>Third Party (Remote)</td>\n      <td>Manual Tools</td>\n      <td>In the sub-station MILPO located at level +170...</td>\n    </tr>\n    <tr>\n      <th>3</th>\n      <td>2016-01-08 00:00:00</td>\n      <td>Country_01</td>\n      <td>Local_04</td>\n      <td>Mining</td>\n      <td>I</td>\n      <td>I</td>\n      <td>Male</td>\n      <td>Third Party</td>\n      <td>Others</td>\n      <td>Being 9:45 am. approximately in the Nv. 1880 C...</td>\n    </tr>\n    <tr>\n      <th>4</th>\n      <td>2016-01-10 00:00:00</td>\n      <td>Country_01</td>\n      <td>Local_04</td>\n      <td>Mining</td>\n      <td>IV</td>\n      <td>IV</td>\n      <td>Male</td>\n      <td>Third Party</td>\n      <td>Others</td>\n      <td>Approximately at 11:45 a.m. in circumstances t...</td>\n    </tr>\n  </tbody>\n</table>\n</div>"
     },
     "metadata": {},
     "execution_count": 9
    }
   ],
   "source": [
    "accident_safety_data_new.head()"
   ]
  },
  {
   "cell_type": "code",
   "execution_count": 10,
   "metadata": {},
   "outputs": [
    {
     "output_type": "execute_result",
     "data": {
      "text/plain": [
       "       Date  Countries  Local  Industry Sector  Accident Level  \\\n",
       "False   425        425    425              425             425   \n",
       "\n",
       "       Potential Accident Level  Genre  Employee or Third Party  \\\n",
       "False                       425    425                      425   \n",
       "\n",
       "       Critical Risk  Description  \n",
       "False            425          425  "
      ],
      "text/html": "<div>\n<style scoped>\n    .dataframe tbody tr th:only-of-type {\n        vertical-align: middle;\n    }\n\n    .dataframe tbody tr th {\n        vertical-align: top;\n    }\n\n    .dataframe thead th {\n        text-align: right;\n    }\n</style>\n<table border=\"1\" class=\"dataframe\">\n  <thead>\n    <tr style=\"text-align: right;\">\n      <th></th>\n      <th>Date</th>\n      <th>Countries</th>\n      <th>Local</th>\n      <th>Industry Sector</th>\n      <th>Accident Level</th>\n      <th>Potential Accident Level</th>\n      <th>Genre</th>\n      <th>Employee or Third Party</th>\n      <th>Critical Risk</th>\n      <th>Description</th>\n    </tr>\n  </thead>\n  <tbody>\n    <tr>\n      <th>False</th>\n      <td>425</td>\n      <td>425</td>\n      <td>425</td>\n      <td>425</td>\n      <td>425</td>\n      <td>425</td>\n      <td>425</td>\n      <td>425</td>\n      <td>425</td>\n      <td>425</td>\n    </tr>\n  </tbody>\n</table>\n</div>"
     },
     "metadata": {},
     "execution_count": 10
    }
   ],
   "source": [
    "#Let us check for missing values in the dataset\n",
    "accident_safety_data_new.isna().apply(pd.value_counts)"
   ]
  },
  {
   "source": [
    "We can see that this dataset has no null values."
   ],
   "cell_type": "markdown",
   "metadata": {}
  },
  {
   "cell_type": "code",
   "execution_count": 11,
   "metadata": {},
   "outputs": [
    {
     "output_type": "execute_result",
     "data": {
      "text/plain": [
       "Date                        object\n",
       "Countries                   object\n",
       "Local                       object\n",
       "Industry Sector             object\n",
       "Accident Level              object\n",
       "Potential Accident Level    object\n",
       "Genre                       object\n",
       "Employee or Third Party     object\n",
       "Critical Risk               object\n",
       "Description                 object\n",
       "dtype: object"
      ]
     },
     "metadata": {},
     "execution_count": 11
    }
   ],
   "source": [
    "#Let us now check the datatype of the dataset and also get to know some more details\n",
    "accident_safety_data_new.dtypes"
   ]
  },
  {
   "source": [
    "Here, we can see that all the columns of the dataset are of \"object\" datatype. Coming to the type of data present in each column, we can see that there is a column \"Date\", which means it holds time series data. All other columns except \"Description\" are of categorical datatype. "
   ],
   "cell_type": "markdown",
   "metadata": {}
  },
  {
   "cell_type": "code",
   "execution_count": 12,
   "metadata": {},
   "outputs": [
    {
     "output_type": "execute_result",
     "data": {
      "text/plain": [
       "                         count unique  \\\n",
       "Date                       425    287   \n",
       "Countries                  425      3   \n",
       "Local                      425     12   \n",
       "Industry Sector            425      3   \n",
       "Accident Level             425      5   \n",
       "Potential Accident Level   425      6   \n",
       "Genre                      425      2   \n",
       "Employee or Third Party    425      3   \n",
       "Critical Risk              425     33   \n",
       "Description                425    411   \n",
       "\n",
       "                                                                        top  \\\n",
       "Date                                                    2017-02-08 00:00:00   \n",
       "Countries                                                        Country_01   \n",
       "Local                                                              Local_03   \n",
       "Industry Sector                                                      Mining   \n",
       "Accident Level                                                            I   \n",
       "Potential Accident Level                                                 IV   \n",
       "Genre                                                                  Male   \n",
       "Employee or Third Party                                         Third Party   \n",
       "Critical Risk                                                        Others   \n",
       "Description               On 02/03/17 during the soil sampling in the re...   \n",
       "\n",
       "                         freq  \n",
       "Date                        6  \n",
       "Countries                 251  \n",
       "Local                      90  \n",
       "Industry Sector           241  \n",
       "Accident Level            316  \n",
       "Potential Accident Level  143  \n",
       "Genre                     403  \n",
       "Employee or Third Party   189  \n",
       "Critical Risk             232  \n",
       "Description                 3  "
      ],
      "text/html": "<div>\n<style scoped>\n    .dataframe tbody tr th:only-of-type {\n        vertical-align: middle;\n    }\n\n    .dataframe tbody tr th {\n        vertical-align: top;\n    }\n\n    .dataframe thead th {\n        text-align: right;\n    }\n</style>\n<table border=\"1\" class=\"dataframe\">\n  <thead>\n    <tr style=\"text-align: right;\">\n      <th></th>\n      <th>count</th>\n      <th>unique</th>\n      <th>top</th>\n      <th>freq</th>\n    </tr>\n  </thead>\n  <tbody>\n    <tr>\n      <th>Date</th>\n      <td>425</td>\n      <td>287</td>\n      <td>2017-02-08 00:00:00</td>\n      <td>6</td>\n    </tr>\n    <tr>\n      <th>Countries</th>\n      <td>425</td>\n      <td>3</td>\n      <td>Country_01</td>\n      <td>251</td>\n    </tr>\n    <tr>\n      <th>Local</th>\n      <td>425</td>\n      <td>12</td>\n      <td>Local_03</td>\n      <td>90</td>\n    </tr>\n    <tr>\n      <th>Industry Sector</th>\n      <td>425</td>\n      <td>3</td>\n      <td>Mining</td>\n      <td>241</td>\n    </tr>\n    <tr>\n      <th>Accident Level</th>\n      <td>425</td>\n      <td>5</td>\n      <td>I</td>\n      <td>316</td>\n    </tr>\n    <tr>\n      <th>Potential Accident Level</th>\n      <td>425</td>\n      <td>6</td>\n      <td>IV</td>\n      <td>143</td>\n    </tr>\n    <tr>\n      <th>Genre</th>\n      <td>425</td>\n      <td>2</td>\n      <td>Male</td>\n      <td>403</td>\n    </tr>\n    <tr>\n      <th>Employee or Third Party</th>\n      <td>425</td>\n      <td>3</td>\n      <td>Third Party</td>\n      <td>189</td>\n    </tr>\n    <tr>\n      <th>Critical Risk</th>\n      <td>425</td>\n      <td>33</td>\n      <td>Others</td>\n      <td>232</td>\n    </tr>\n    <tr>\n      <th>Description</th>\n      <td>425</td>\n      <td>411</td>\n      <td>On 02/03/17 during the soil sampling in the re...</td>\n      <td>3</td>\n    </tr>\n  </tbody>\n</table>\n</div>"
     },
     "metadata": {},
     "execution_count": 12
    }
   ],
   "source": [
    "accident_safety_data_new.describe().T"
   ]
  },
  {
   "source": [
    "From the above table, we can infer the below:\n",
    "\n",
    "1. This dataset contains accident data of 3 countries, out of which Country1 has the most number of accidents. \n",
    "\n",
    "2. The data is collected from 3 types of industry sectors.Local_3 has the most number of accidents.\n",
    "\n",
    "3. There are 5 major accident levels in which this dataset has been classified.316 accidents are of accident level 1, making it the most frequent accident type. This also means that the data is not distributed evenly.\n",
    "\n",
    "4. The data is a consolidation of accidents faced by employees as well as third party vendors and others. Third party employees have faced the most number of accidents according to this dataset.\n",
    "\n",
    "5. 403 male employees have been reported to have accidents, which mean the distribution of data in this case is also not evenly balanced.\n",
    "\n",
    "6. 33 different types of critical risks have been identified in the dataset."
   ],
   "cell_type": "markdown",
   "metadata": {}
  },
  {
   "source": [
    "We have seen that there are quite a few categorical columns in the dataset which can be encoded to numerical values e.g. \n",
    "\n",
    "1. Local\n",
    "\n",
    "2. Accident Level\n",
    "\n",
    "3. Potential Accident Level\n"
   ],
   "cell_type": "markdown",
   "metadata": {}
  },
  {
   "cell_type": "code",
   "execution_count": null,
   "metadata": {},
   "outputs": [],
   "source": [
    "from sklearn.preprocessing import LabelEncoder\n",
    "lb_make = LabelEncoder()\n",
    "#accident_safety_data_new['Countries'] = lb_make.fit_transform(accident_safety_data_new['Countries'])\n",
    "#accident_safety_data_new['Local'] = lb_make.fit_transform(accident_safety_data_new['Local'])\n",
    "accident_safety_data_new['Accident Level'] = lb_make.fit_transform(accident_safety_data_new['Accident Level'])\n",
    "accident_safety_data_new['Potential Accident Level'] = lb_make.fit_transform(accident_safety_data_new['Potential Accident Level'])\n",
    "#accident_safety_data_new['Genre'] = lb_make.fit_transform(accident_safety_data_new['Genre'])\n"
   ]
  },
  {
   "cell_type": "code",
   "execution_count": null,
   "metadata": {},
   "outputs": [],
   "source": [
    "accident_safety_data_new.head()"
   ]
  },
  {
   "source": [
    "UNIVARIATE ANALYSIS"
   ],
   "cell_type": "markdown",
   "metadata": {}
  },
  {
   "source": [
    "1. Let us check the distribution of data based on country."
   ],
   "cell_type": "markdown",
   "metadata": {}
  },
  {
   "cell_type": "code",
   "execution_count": null,
   "metadata": {},
   "outputs": [],
   "source": [
    "accident_safety_data_new['Countries'].value_counts().plot(kind='bar')"
   ]
  },
  {
   "source": [
    "We can see that \"Country_01\" has the most number of accident cases."
   ],
   "cell_type": "markdown",
   "metadata": {}
  },
  {
   "source": [
    "Let us now see the distribution of accidents with respect to the type of employee.(Employee/ThirdParty/ThirdPartyRemote)"
   ],
   "cell_type": "markdown",
   "metadata": {}
  },
  {
   "cell_type": "code",
   "execution_count": null,
   "metadata": {},
   "outputs": [],
   "source": [
    "accident_safety_data_new['Employee or Third Party'].value_counts().plot(kind='bar')"
   ]
  },
  {
   "source": [
    "From the graph it is very clear that accidents have happened in almost equal proportions among permanent employees or third party contractors, with thrid party contractors a bit on the higher side."
   ],
   "cell_type": "markdown",
   "metadata": {}
  },
  {
   "source": [
    "Let us also check the distribution of accidents as per industry sector."
   ],
   "cell_type": "markdown",
   "metadata": {}
  },
  {
   "cell_type": "code",
   "execution_count": null,
   "metadata": {},
   "outputs": [],
   "source": [
    "accident_safety_data_new['Industry Sector'].value_counts().plot(kind='bar')"
   ]
  },
  {
   "source": [
    "We can see that majority of accidents have happened in the mining sector, followed by metal industry and other type of industries."
   ],
   "cell_type": "markdown",
   "metadata": {}
  },
  {
   "source": [
    "We will now see the distribution of accidents as per Gender"
   ],
   "cell_type": "markdown",
   "metadata": {}
  },
  {
   "cell_type": "code",
   "execution_count": null,
   "metadata": {},
   "outputs": [],
   "source": [
    "accident_safety_data_new['Genre'].value_counts().plot(kind='bar')"
   ]
  },
  {
   "source": [
    "Clearly, the distribution of accidents is imbalanced when checked by \"Genre\". The count of accidents in males is way higher than that in females."
   ],
   "cell_type": "markdown",
   "metadata": {}
  },
  {
   "source": [
    "Lastly, let us check the distribution by Locals."
   ],
   "cell_type": "markdown",
   "metadata": {}
  },
  {
   "cell_type": "code",
   "execution_count": null,
   "metadata": {},
   "outputs": [],
   "source": [
    "accident_safety_data_new['Local'].value_counts().plot(kind='bar')"
   ]
  },
  {
   "source": [
    "From the graph it is pretty clear, that the plants can be divided into 4 categories, based on the frequency of accidents. \n",
    "\n",
    "1. Local_03 - Very High, \n",
    "\n",
    "2. Local_05,Local_01,Local_04,Local_06,Local_10 - High\n",
    "\n",
    "3. Local_08,Local_02,Local_07 - Medium\n",
    "\n",
    "4. Local_12,Local_11,Local_09 - Low"
   ],
   "cell_type": "markdown",
   "metadata": {}
  },
  {
   "source": [
    "BIVARIATE ANALYSIS"
   ],
   "cell_type": "markdown",
   "metadata": {}
  },
  {
   "source": [
    "Let us check the relation between different factors which have lead to accidents"
   ],
   "cell_type": "markdown",
   "metadata": {}
  },
  {
   "cell_type": "code",
   "execution_count": null,
   "metadata": {},
   "outputs": [],
   "source": []
  }
 ]
}