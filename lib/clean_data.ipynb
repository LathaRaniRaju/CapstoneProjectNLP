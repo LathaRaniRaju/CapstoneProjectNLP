{
  "nbformat": 4,
  "nbformat_minor": 0,
  "metadata": {
    "language_info": {
      "codemirror_mode": {
        "name": "ipython",
        "version": 3
      },
      "file_extension": ".py",
      "mimetype": "text/x-python",
      "name": "python",
      "nbconvert_exporter": "python",
      "pygments_lexer": "ipython3",
      "version": "3.7.4"
    },
    "orig_nbformat": 2,
    "kernelspec": {
      "name": "python3",
      "display_name": "Python 3.7.4 32-bit"
    },
    "colab": {
      "name": "Copy of clean_data.ipynb",
      "provenance": [],
      "collapsed_sections": []
    },
    "accelerator": "GPU",
    "widgets": {
      "application/vnd.jupyter.widget-state+json": {
        "fee23b91b19c470faba779605eb7f54b": {
          "model_module": "@jupyter-widgets/controls",
          "model_name": "HBoxModel",
          "state": {
            "_view_name": "HBoxView",
            "_dom_classes": [],
            "_model_name": "HBoxModel",
            "_view_module": "@jupyter-widgets/controls",
            "_model_module_version": "1.5.0",
            "_view_count": null,
            "_view_module_version": "1.5.0",
            "box_style": "",
            "layout": "IPY_MODEL_10329cafdd924a8ca2b44c5fc7c404ad",
            "_model_module": "@jupyter-widgets/controls",
            "children": [
              "IPY_MODEL_5631f5ab331a451fb2e7b17c1b232291",
              "IPY_MODEL_f0f2e4d2023942afbe1ad15ef05ba281"
            ]
          }
        },
        "10329cafdd924a8ca2b44c5fc7c404ad": {
          "model_module": "@jupyter-widgets/base",
          "model_name": "LayoutModel",
          "state": {
            "_view_name": "LayoutView",
            "grid_template_rows": null,
            "right": null,
            "justify_content": null,
            "_view_module": "@jupyter-widgets/base",
            "overflow": null,
            "_model_module_version": "1.2.0",
            "_view_count": null,
            "flex_flow": null,
            "width": null,
            "min_width": null,
            "border": null,
            "align_items": null,
            "bottom": null,
            "_model_module": "@jupyter-widgets/base",
            "top": null,
            "grid_column": null,
            "overflow_y": null,
            "overflow_x": null,
            "grid_auto_flow": null,
            "grid_area": null,
            "grid_template_columns": null,
            "flex": null,
            "_model_name": "LayoutModel",
            "justify_items": null,
            "grid_row": null,
            "max_height": null,
            "align_content": null,
            "visibility": null,
            "align_self": null,
            "height": null,
            "min_height": null,
            "padding": null,
            "grid_auto_rows": null,
            "grid_gap": null,
            "max_width": null,
            "order": null,
            "_view_module_version": "1.2.0",
            "grid_template_areas": null,
            "object_position": null,
            "object_fit": null,
            "grid_auto_columns": null,
            "margin": null,
            "display": null,
            "left": null
          }
        },
        "5631f5ab331a451fb2e7b17c1b232291": {
          "model_module": "@jupyter-widgets/controls",
          "model_name": "FloatProgressModel",
          "state": {
            "_view_name": "ProgressView",
            "style": "IPY_MODEL_fde8a99e5db64b2dbd28237d692692ca",
            "_dom_classes": [],
            "description": "Downloading: 100%",
            "_model_name": "FloatProgressModel",
            "bar_style": "success",
            "max": 513,
            "_view_module": "@jupyter-widgets/controls",
            "_model_module_version": "1.5.0",
            "value": 513,
            "_view_count": null,
            "_view_module_version": "1.5.0",
            "orientation": "horizontal",
            "min": 0,
            "description_tooltip": null,
            "_model_module": "@jupyter-widgets/controls",
            "layout": "IPY_MODEL_1c8d0fab3ab348d9a77bf4471f3e7f0a"
          }
        },
        "f0f2e4d2023942afbe1ad15ef05ba281": {
          "model_module": "@jupyter-widgets/controls",
          "model_name": "HTMLModel",
          "state": {
            "_view_name": "HTMLView",
            "style": "IPY_MODEL_db55d9c511024baead7a9033e84893ca",
            "_dom_classes": [],
            "description": "",
            "_model_name": "HTMLModel",
            "placeholder": "​",
            "_view_module": "@jupyter-widgets/controls",
            "_model_module_version": "1.5.0",
            "value": " 513/513 [00:02&lt;00:00, 192B/s]",
            "_view_count": null,
            "_view_module_version": "1.5.0",
            "description_tooltip": null,
            "_model_module": "@jupyter-widgets/controls",
            "layout": "IPY_MODEL_7ba1513d95ff4ac7a93839c0c49bbfc5"
          }
        },
        "fde8a99e5db64b2dbd28237d692692ca": {
          "model_module": "@jupyter-widgets/controls",
          "model_name": "ProgressStyleModel",
          "state": {
            "_view_name": "StyleView",
            "_model_name": "ProgressStyleModel",
            "description_width": "initial",
            "_view_module": "@jupyter-widgets/base",
            "_model_module_version": "1.5.0",
            "_view_count": null,
            "_view_module_version": "1.2.0",
            "bar_color": null,
            "_model_module": "@jupyter-widgets/controls"
          }
        },
        "1c8d0fab3ab348d9a77bf4471f3e7f0a": {
          "model_module": "@jupyter-widgets/base",
          "model_name": "LayoutModel",
          "state": {
            "_view_name": "LayoutView",
            "grid_template_rows": null,
            "right": null,
            "justify_content": null,
            "_view_module": "@jupyter-widgets/base",
            "overflow": null,
            "_model_module_version": "1.2.0",
            "_view_count": null,
            "flex_flow": null,
            "width": null,
            "min_width": null,
            "border": null,
            "align_items": null,
            "bottom": null,
            "_model_module": "@jupyter-widgets/base",
            "top": null,
            "grid_column": null,
            "overflow_y": null,
            "overflow_x": null,
            "grid_auto_flow": null,
            "grid_area": null,
            "grid_template_columns": null,
            "flex": null,
            "_model_name": "LayoutModel",
            "justify_items": null,
            "grid_row": null,
            "max_height": null,
            "align_content": null,
            "visibility": null,
            "align_self": null,
            "height": null,
            "min_height": null,
            "padding": null,
            "grid_auto_rows": null,
            "grid_gap": null,
            "max_width": null,
            "order": null,
            "_view_module_version": "1.2.0",
            "grid_template_areas": null,
            "object_position": null,
            "object_fit": null,
            "grid_auto_columns": null,
            "margin": null,
            "display": null,
            "left": null
          }
        },
        "db55d9c511024baead7a9033e84893ca": {
          "model_module": "@jupyter-widgets/controls",
          "model_name": "DescriptionStyleModel",
          "state": {
            "_view_name": "StyleView",
            "_model_name": "DescriptionStyleModel",
            "description_width": "",
            "_view_module": "@jupyter-widgets/base",
            "_model_module_version": "1.5.0",
            "_view_count": null,
            "_view_module_version": "1.2.0",
            "_model_module": "@jupyter-widgets/controls"
          }
        },
        "7ba1513d95ff4ac7a93839c0c49bbfc5": {
          "model_module": "@jupyter-widgets/base",
          "model_name": "LayoutModel",
          "state": {
            "_view_name": "LayoutView",
            "grid_template_rows": null,
            "right": null,
            "justify_content": null,
            "_view_module": "@jupyter-widgets/base",
            "overflow": null,
            "_model_module_version": "1.2.0",
            "_view_count": null,
            "flex_flow": null,
            "width": null,
            "min_width": null,
            "border": null,
            "align_items": null,
            "bottom": null,
            "_model_module": "@jupyter-widgets/base",
            "top": null,
            "grid_column": null,
            "overflow_y": null,
            "overflow_x": null,
            "grid_auto_flow": null,
            "grid_area": null,
            "grid_template_columns": null,
            "flex": null,
            "_model_name": "LayoutModel",
            "justify_items": null,
            "grid_row": null,
            "max_height": null,
            "align_content": null,
            "visibility": null,
            "align_self": null,
            "height": null,
            "min_height": null,
            "padding": null,
            "grid_auto_rows": null,
            "grid_gap": null,
            "max_width": null,
            "order": null,
            "_view_module_version": "1.2.0",
            "grid_template_areas": null,
            "object_position": null,
            "object_fit": null,
            "grid_auto_columns": null,
            "margin": null,
            "display": null,
            "left": null
          }
        },
        "0f815c04a336420ea93d9a5419856d83": {
          "model_module": "@jupyter-widgets/controls",
          "model_name": "HBoxModel",
          "state": {
            "_view_name": "HBoxView",
            "_dom_classes": [],
            "_model_name": "HBoxModel",
            "_view_module": "@jupyter-widgets/controls",
            "_model_module_version": "1.5.0",
            "_view_count": null,
            "_view_module_version": "1.5.0",
            "box_style": "",
            "layout": "IPY_MODEL_ca1fa2e0cd954b2d9614051f3eaefb35",
            "_model_module": "@jupyter-widgets/controls",
            "children": [
              "IPY_MODEL_0249b206a30046f6b1a34e589e0dd6c6",
              "IPY_MODEL_78b4c7f8e044416bacbe15d22a91cdaa"
            ]
          }
        },
        "ca1fa2e0cd954b2d9614051f3eaefb35": {
          "model_module": "@jupyter-widgets/base",
          "model_name": "LayoutModel",
          "state": {
            "_view_name": "LayoutView",
            "grid_template_rows": null,
            "right": null,
            "justify_content": null,
            "_view_module": "@jupyter-widgets/base",
            "overflow": null,
            "_model_module_version": "1.2.0",
            "_view_count": null,
            "flex_flow": null,
            "width": null,
            "min_width": null,
            "border": null,
            "align_items": null,
            "bottom": null,
            "_model_module": "@jupyter-widgets/base",
            "top": null,
            "grid_column": null,
            "overflow_y": null,
            "overflow_x": null,
            "grid_auto_flow": null,
            "grid_area": null,
            "grid_template_columns": null,
            "flex": null,
            "_model_name": "LayoutModel",
            "justify_items": null,
            "grid_row": null,
            "max_height": null,
            "align_content": null,
            "visibility": null,
            "align_self": null,
            "height": null,
            "min_height": null,
            "padding": null,
            "grid_auto_rows": null,
            "grid_gap": null,
            "max_width": null,
            "order": null,
            "_view_module_version": "1.2.0",
            "grid_template_areas": null,
            "object_position": null,
            "object_fit": null,
            "grid_auto_columns": null,
            "margin": null,
            "display": null,
            "left": null
          }
        },
        "0249b206a30046f6b1a34e589e0dd6c6": {
          "model_module": "@jupyter-widgets/controls",
          "model_name": "FloatProgressModel",
          "state": {
            "_view_name": "ProgressView",
            "style": "IPY_MODEL_7612e9d6875b43f28d7fd349c76e9f65",
            "_dom_classes": [],
            "description": "Downloading: 100%",
            "_model_name": "FloatProgressModel",
            "bar_style": "success",
            "max": 5069051,
            "_view_module": "@jupyter-widgets/controls",
            "_model_module_version": "1.5.0",
            "value": 5069051,
            "_view_count": null,
            "_view_module_version": "1.5.0",
            "orientation": "horizontal",
            "min": 0,
            "description_tooltip": null,
            "_model_module": "@jupyter-widgets/controls",
            "layout": "IPY_MODEL_d49dfb8ff5ad48fab3bfe9acc3bb052f"
          }
        },
        "78b4c7f8e044416bacbe15d22a91cdaa": {
          "model_module": "@jupyter-widgets/controls",
          "model_name": "HTMLModel",
          "state": {
            "_view_name": "HTMLView",
            "style": "IPY_MODEL_973451bd979d41f19de5bd134095e605",
            "_dom_classes": [],
            "description": "",
            "_model_name": "HTMLModel",
            "placeholder": "​",
            "_view_module": "@jupyter-widgets/controls",
            "_model_module_version": "1.5.0",
            "value": " 5.07M/5.07M [00:02&lt;00:00, 2.52MB/s]",
            "_view_count": null,
            "_view_module_version": "1.5.0",
            "description_tooltip": null,
            "_model_module": "@jupyter-widgets/controls",
            "layout": "IPY_MODEL_8acbace776204c1eb3d06a70da872879"
          }
        },
        "7612e9d6875b43f28d7fd349c76e9f65": {
          "model_module": "@jupyter-widgets/controls",
          "model_name": "ProgressStyleModel",
          "state": {
            "_view_name": "StyleView",
            "_model_name": "ProgressStyleModel",
            "description_width": "initial",
            "_view_module": "@jupyter-widgets/base",
            "_model_module_version": "1.5.0",
            "_view_count": null,
            "_view_module_version": "1.2.0",
            "bar_color": null,
            "_model_module": "@jupyter-widgets/controls"
          }
        },
        "d49dfb8ff5ad48fab3bfe9acc3bb052f": {
          "model_module": "@jupyter-widgets/base",
          "model_name": "LayoutModel",
          "state": {
            "_view_name": "LayoutView",
            "grid_template_rows": null,
            "right": null,
            "justify_content": null,
            "_view_module": "@jupyter-widgets/base",
            "overflow": null,
            "_model_module_version": "1.2.0",
            "_view_count": null,
            "flex_flow": null,
            "width": null,
            "min_width": null,
            "border": null,
            "align_items": null,
            "bottom": null,
            "_model_module": "@jupyter-widgets/base",
            "top": null,
            "grid_column": null,
            "overflow_y": null,
            "overflow_x": null,
            "grid_auto_flow": null,
            "grid_area": null,
            "grid_template_columns": null,
            "flex": null,
            "_model_name": "LayoutModel",
            "justify_items": null,
            "grid_row": null,
            "max_height": null,
            "align_content": null,
            "visibility": null,
            "align_self": null,
            "height": null,
            "min_height": null,
            "padding": null,
            "grid_auto_rows": null,
            "grid_gap": null,
            "max_width": null,
            "order": null,
            "_view_module_version": "1.2.0",
            "grid_template_areas": null,
            "object_position": null,
            "object_fit": null,
            "grid_auto_columns": null,
            "margin": null,
            "display": null,
            "left": null
          }
        },
        "973451bd979d41f19de5bd134095e605": {
          "model_module": "@jupyter-widgets/controls",
          "model_name": "DescriptionStyleModel",
          "state": {
            "_view_name": "StyleView",
            "_model_name": "DescriptionStyleModel",
            "description_width": "",
            "_view_module": "@jupyter-widgets/base",
            "_model_module_version": "1.5.0",
            "_view_count": null,
            "_view_module_version": "1.2.0",
            "_model_module": "@jupyter-widgets/controls"
          }
        },
        "8acbace776204c1eb3d06a70da872879": {
          "model_module": "@jupyter-widgets/base",
          "model_name": "LayoutModel",
          "state": {
            "_view_name": "LayoutView",
            "grid_template_rows": null,
            "right": null,
            "justify_content": null,
            "_view_module": "@jupyter-widgets/base",
            "overflow": null,
            "_model_module_version": "1.2.0",
            "_view_count": null,
            "flex_flow": null,
            "width": null,
            "min_width": null,
            "border": null,
            "align_items": null,
            "bottom": null,
            "_model_module": "@jupyter-widgets/base",
            "top": null,
            "grid_column": null,
            "overflow_y": null,
            "overflow_x": null,
            "grid_auto_flow": null,
            "grid_area": null,
            "grid_template_columns": null,
            "flex": null,
            "_model_name": "LayoutModel",
            "justify_items": null,
            "grid_row": null,
            "max_height": null,
            "align_content": null,
            "visibility": null,
            "align_self": null,
            "height": null,
            "min_height": null,
            "padding": null,
            "grid_auto_rows": null,
            "grid_gap": null,
            "max_width": null,
            "order": null,
            "_view_module_version": "1.2.0",
            "grid_template_areas": null,
            "object_position": null,
            "object_fit": null,
            "grid_auto_columns": null,
            "margin": null,
            "display": null,
            "left": null
          }
        }
      }
    },
    "interpreter": {
      "hash": "8e61c9422603e3d3820d3aeca1b8eefe471d1a1023a28a3903412dc32402bf43"
    }
  },
  "cells": [
    {
      "cell_type": "code",
      "metadata": {
        "id": "f0BSBXOw-GW8"
      },
      "source": [
        "import numpy as np\n",
        "import pandas as pd\n",
        "import matplotlib.pyplot as plt\n",
        "import seaborn as sns\n",
        "import plotly.express as px"
      ],
      "execution_count": null,
      "outputs": []
    },
    {
      "cell_type": "code",
      "metadata": {
        "id": "klr_zunE-GW9"
      },
      "source": [
        "accident_safety_data=pd.read_csv(\"C:/Applications/Machine Learning/NLP/CapstoneProjectNLP/data/hse_data.csv\")\n",
        "#accident_safety_data=pd.read_csv(\"/content/hse_data.csv\")"
      ],
      "execution_count": null,
      "outputs": []
    },
    {
      "cell_type": "code",
      "metadata": {
        "colab": {
          "base_uri": "https://localhost:8080/",
          "height": 573
        },
        "id": "UmjUWkKf-GW-",
        "outputId": "758fe500-c0cb-470a-f217-fe6262b5ad1d"
      },
      "source": [
        "accident_safety_data.head()"
      ],
      "execution_count": null,
      "outputs": []
    },
    {
      "cell_type": "code",
      "metadata": {
        "colab": {
          "base_uri": "https://localhost:8080/"
        },
        "id": "4l9fHhNP-GW_",
        "outputId": "499479d6-4358-4036-e920-a226591ada4c"
      },
      "source": [
        "accident_safety_data.columns"
      ],
      "execution_count": null,
      "outputs": []
    },
    {
      "cell_type": "markdown",
      "metadata": {
        "id": "06EjhqBa-GW_"
      },
      "source": [
        "We can see that the columns \"Unnamed\" is unwanted, as it will not help us in our analysis. \n",
        "Also, Data column should be renamed to \"Date\". Therefore, let's drop the column \"Unnamed\" and rename the column \"Data\" to \"Date\""
      ]
    },
    {
      "cell_type": "code",
      "metadata": {
        "colab": {
          "base_uri": "https://localhost:8080/",
          "height": 573
        },
        "id": "eOxJpKam-GW_",
        "outputId": "cb17ac6b-2297-49e9-f2a4-ac4b0f75ba59"
      },
      "source": [
        "#create a backup of the dataset before we make any changes to it\n",
        "accident_safety_data_new=accident_safety_data\n",
        "accident_safety_data_new.head()"
      ],
      "execution_count": null,
      "outputs": []
    },
    {
      "cell_type": "code",
      "metadata": {
        "id": "Wk8rkijB-GXA"
      },
      "source": [
        "#dropping \"Unnamed\" column\n",
        "accident_safety_data_new.drop('Unnamed: 0',axis='columns', inplace=True)\n",
        "#renaming \"Data\" column to \"Date\"\n",
        "accident_safety_data_new.rename(columns = {'Data':'Date'}, inplace = True)"
      ],
      "execution_count": null,
      "outputs": []
    },
    {
      "cell_type": "code",
      "metadata": {
        "colab": {
          "base_uri": "https://localhost:8080/"
        },
        "id": "oKWYkOQS-GXA",
        "outputId": "67feebcb-4f1c-4b5e-c9e4-0cf1f9c1056c"
      },
      "source": [
        "#Let us check the shape of our dataset\n",
        "accident_safety_data_new.shape"
      ],
      "execution_count": null,
      "outputs": []
    },
    {
      "cell_type": "markdown",
      "metadata": {
        "id": "Xnwm1jH8-GXB"
      },
      "source": [
        "We can see that the dataset has 425 rows and 10 columns"
      ]
    },
    {
      "cell_type": "code",
      "metadata": {
        "colab": {
          "base_uri": "https://localhost:8080/",
          "height": 466
        },
        "id": "Mj_P-X4F-GXB",
        "outputId": "e0dd21af-6289-49f6-e4fe-00f23039f0a8"
      },
      "source": [
        "accident_safety_data_new.head()"
      ],
      "execution_count": null,
      "outputs": []
    },
    {
      "cell_type": "code",
      "metadata": {
        "colab": {
          "base_uri": "https://localhost:8080/",
          "height": 115
        },
        "id": "N22Ns9wC-GXB",
        "outputId": "1e1ce65c-8d13-4334-d4d6-02bf483ad2ae"
      },
      "source": [
        "#Let us check for missing values in the dataset\n",
        "accident_safety_data_new.isna().apply(pd.value_counts)"
      ],
      "execution_count": null,
      "outputs": []
    },
    {
      "cell_type": "markdown",
      "metadata": {
        "id": "AAJ1G-IV-GXC"
      },
      "source": [
        "We can see that this dataset has no null values."
      ]
    },
    {
      "cell_type": "code",
      "metadata": {
        "colab": {
          "base_uri": "https://localhost:8080/"
        },
        "id": "T_aQYWgx-GXC",
        "outputId": "66431dc1-fb18-4b0d-ab66-cdffad497eb0"
      },
      "source": [
        "#Let us now check the datatype of the dataset and also get to know some more details\n",
        "accident_safety_data_new.dtypes"
      ],
      "execution_count": null,
      "outputs": []
    },
    {
      "cell_type": "markdown",
      "metadata": {
        "id": "nVLsoWFT-GXC"
      },
      "source": [
        "Here, we can see that all the columns of the dataset are of \"object\" datatype. Coming to the type of data present in each column, we can see that there is a column \"Date\", which means it holds time series data. All other columns except \"Description\" are of categorical datatype. "
      ]
    },
    {
      "cell_type": "code",
      "metadata": {
        "colab": {
          "base_uri": "https://localhost:8080/",
          "height": 363
        },
        "id": "6Z9UZgQh-GXD",
        "outputId": "809290b9-434e-438b-b3e3-3d28fa7e5e40"
      },
      "source": [
        "accident_safety_data_new.describe().T"
      ],
      "execution_count": null,
      "outputs": []
    },
    {
      "cell_type": "markdown",
      "metadata": {
        "id": "82iQO8H5-GXD"
      },
      "source": [
        "From the above table, we can infer the below:\n",
        "\n",
        "1. This dataset contains accident data of 3 countries, out of which Country1 has the most number of accidents. \n",
        "\n",
        "2. The data is collected from 3 types of industry sectors.Local_3 has the most number of accidents.\n",
        "\n",
        "3. There are 5 major accident levels in which this dataset has been classified.316 accidents are of accident level 1, making it the most frequent accident type. This also means that the data is not distributed evenly.\n",
        "\n",
        "4. The data is a consolidation of accidents faced by employees as well as third party vendors and others. Third party employees have faced the most number of accidents according to this dataset.\n",
        "\n",
        "5. 403 male employees have been reported to have accidents, which mean the distribution of data in this case is also not evenly balanced.\n",
        "\n",
        "6. 33 different types of critical risks have been identified in the dataset."
      ]
    },
    {
      "cell_type": "markdown",
      "metadata": {
        "id": "lWAqHOL2-GXD"
      },
      "source": [
        "We have seen that there are quite a few categorical columns in the dataset which can be encoded to numerical values e.g. \n",
        "\n",
        "1. Local\n",
        "\n",
        "2. Accident Level\n",
        "\n",
        "3. Potential Accident Level\n"
      ]
    },
    {
      "cell_type": "code",
      "metadata": {
        "colab": {
          "base_uri": "https://localhost:8080/",
          "height": 466
        },
        "id": "l3ECtTDU-GXE",
        "outputId": "4146f6e2-7f6f-4794-feb8-6828c3955510"
      },
      "source": [
        "accident_safety_data_new.head()"
      ],
      "execution_count": null,
      "outputs": []
    },
    {
      "cell_type": "markdown",
      "metadata": {
        "id": "ylJxMWwK-GXE"
      },
      "source": [
        "UNIVARIATE ANALYSIS"
      ]
    },
    {
      "source": [
        "Let us check the distribution of data based on accident levels"
      ],
      "cell_type": "markdown",
      "metadata": {}
    },
    {
      "cell_type": "code",
      "execution_count": null,
      "metadata": {},
      "outputs": [],
      "source": [
        "fig = px.histogram(accident_safety_data_new, x=\"Accident Level\")\n",
        "fig.show()"
      ]
    },
    {
      "source": [
        "We can see that the distribution of Accident Levels is highly imbalanced in the dataset"
      ],
      "cell_type": "markdown",
      "metadata": {}
    },
    {
      "cell_type": "markdown",
      "metadata": {
        "id": "5N572GM8-GXE"
      },
      "source": [
        "1. Let us check the distribution of data based on country."
      ]
    },
    {
      "cell_type": "code",
      "metadata": {
        "colab": {
          "base_uri": "https://localhost:8080/",
          "height": 542
        },
        "id": "Dk1rPWIE-GXE",
        "outputId": "b9c7cd59-9231-491b-8740-4bd40c434f57"
      },
      "source": [
        "fig = px.histogram(accident_safety_data_new, x=\"Countries\")\n",
        "fig.show()"
      ],
      "execution_count": null,
      "outputs": []
    },
    {
      "cell_type": "markdown",
      "metadata": {
        "id": "gneXex34-GXF"
      },
      "source": [
        "We can see that \"Country_01\" has the most number of accident cases."
      ]
    },
    {
      "cell_type": "markdown",
      "metadata": {
        "id": "An4NNONA-GXF"
      },
      "source": [
        "Let us now see the distribution of accidents with respect to the type of employee.(Employee/ThirdParty/ThirdPartyRemote)"
      ]
    },
    {
      "cell_type": "code",
      "metadata": {
        "colab": {
          "base_uri": "https://localhost:8080/",
          "height": 542
        },
        "id": "yvGaG2S--GXF",
        "outputId": "fd4d5716-4c2a-4747-82de-4d30b83c9a95"
      },
      "source": [
        "fig = px.histogram(accident_safety_data_new, x=\"Employee or Third Party\")\n",
        "fig.show()"
      ],
      "execution_count": null,
      "outputs": []
    },
    {
      "cell_type": "markdown",
      "metadata": {
        "id": "vqKgs3ge-GXF"
      },
      "source": [
        "From the graph it is very clear that accidents have happened in almost equal proportions among permanent employees or third party contractors, with thrid party contractors a bit on the higher side."
      ]
    },
    {
      "cell_type": "markdown",
      "metadata": {
        "id": "yApY1hb--GXF"
      },
      "source": [
        "Let us also check the distribution of accidents as per industry sector."
      ]
    },
    {
      "cell_type": "code",
      "metadata": {
        "colab": {
          "base_uri": "https://localhost:8080/",
          "height": 542
        },
        "id": "82SyVUVk-GXF",
        "outputId": "a44d1947-cd76-48f1-a27a-0e752925b2ed"
      },
      "source": [
        "fig = px.histogram(accident_safety_data_new, x=\"Industry Sector\")\n",
        "fig.show()"
      ],
      "execution_count": null,
      "outputs": []
    },
    {
      "cell_type": "markdown",
      "metadata": {
        "id": "hBjGsbUS-GXG"
      },
      "source": [
        "We can see that majority of accidents have happened in the mining sector, followed by metal industry and other type of industries."
      ]
    },
    {
      "cell_type": "markdown",
      "metadata": {
        "id": "SM40r_K6-GXG"
      },
      "source": [
        "We will now see the distribution of accidents as per Gender"
      ]
    },
    {
      "cell_type": "code",
      "metadata": {
        "colab": {
          "base_uri": "https://localhost:8080/",
          "height": 542
        },
        "id": "pXhTO2yo-GXG",
        "outputId": "bba267ed-b76c-450e-bd39-6b41666fc582"
      },
      "source": [
        "fig = px.histogram(accident_safety_data_new, x=\"Genre\")\n",
        "fig.show()"
      ],
      "execution_count": null,
      "outputs": []
    },
    {
      "cell_type": "markdown",
      "metadata": {
        "id": "rHMiXone-GXG"
      },
      "source": [
        "Clearly, the distribution of accidents is imbalanced when checked by \"Genre\". The count of accidents in males is way higher than that in females."
      ]
    },
    {
      "cell_type": "markdown",
      "metadata": {
        "id": "YzFcleBL-GXG"
      },
      "source": [
        "Lastly, let us check the distribution by Locals."
      ]
    },
    {
      "cell_type": "code",
      "metadata": {
        "colab": {
          "base_uri": "https://localhost:8080/",
          "height": 542
        },
        "id": "Wrdos3vO-GXH",
        "outputId": "50f11e8d-81db-4e5d-880e-28fc28a6253c"
      },
      "source": [
        "fig = px.histogram(accident_safety_data_new, x=\"Local\")\n",
        "fig.show()"
      ],
      "execution_count": null,
      "outputs": []
    },
    {
      "cell_type": "code",
      "metadata": {
        "colab": {
          "base_uri": "https://localhost:8080/",
          "height": 542
        },
        "id": "nR6VVeMi-GXH",
        "outputId": "1453d29e-ad54-4a30-f2ad-80f046f46d23"
      },
      "source": [
        "fig = px.histogram(accident_safety_data_new, x=\"Accident Level\")\n",
        "fig.show()"
      ],
      "execution_count": null,
      "outputs": []
    },
    {
      "cell_type": "markdown",
      "metadata": {
        "id": "sD4hsk7R-GXH"
      },
      "source": [
        "We can see that most of the people have met with accident having level 1."
      ]
    },
    {
      "cell_type": "code",
      "metadata": {
        "colab": {
          "base_uri": "https://localhost:8080/",
          "height": 542
        },
        "id": "DwJRwNz4-GXH",
        "outputId": "853c7e3e-0cb8-4c56-b3ea-8cf76c87a5cd"
      },
      "source": [
        "fig = px.histogram(accident_safety_data_new, x=\"Critical Risk\")\n",
        "fig.show()"
      ],
      "execution_count": null,
      "outputs": []
    },
    {
      "cell_type": "markdown",
      "metadata": {
        "id": "BmYlJrUN-GXI"
      },
      "source": [
        "We can see from the graph that the Critical risk category \"Others\" have the most number of accidents. This means we are not clear about the exact risk factor associated with accidents in this dataset."
      ]
    },
    {
      "cell_type": "markdown",
      "metadata": {
        "id": "6Hd6Y5i4-GXI"
      },
      "source": [
        "BIVARIATE ANALYSIS"
      ]
    },
    {
      "cell_type": "markdown",
      "metadata": {
        "id": "yVRmTudV-GXI"
      },
      "source": [
        "Let us write a function to see how does the accident level varies with the Industry Sector and Countries"
      ]
    },
    {
      "cell_type": "code",
      "metadata": {
        "id": "2J755nMT-GXI"
      },
      "source": [
        "def plothistograms(data,column_name_x,column_name_color,value):\n",
        "    fig = px.histogram(data, x=column_name_x, color=column_name_color, \n",
        "                   barmode=value\n",
        "                  )\n",
        "    fig.show()"
      ],
      "execution_count": null,
      "outputs": []
    },
    {
      "cell_type": "markdown",
      "metadata": {
        "id": "rFm09lvW-GXI"
      },
      "source": [
        "1. We will see the distribution of different accident levels occured per country"
      ]
    },
    {
      "cell_type": "code",
      "execution_count": null,
      "metadata": {},
      "outputs": [],
      "source": [
        "plothistograms(accident_safety_data_new,\"Countries\",\"Accident Level\",\"relative\")"
      ]
    },
    {
      "source": [
        "Observations from the above graph:\n",
        "1. Accident Level V accidents have occured only in Country I.\n",
        "2. Maximum number of accidents in all countries are mainly of type Accident Level I.\n",
        "3. Country_01 has had accidents of all Accident types, making it the most riskiest place as per the dataset."
      ],
      "cell_type": "markdown",
      "metadata": {}
    },
    {
      "cell_type": "code",
      "metadata": {
        "colab": {
          "base_uri": "https://localhost:8080/",
          "height": 542
        },
        "id": "DnHZe6ve-GXI",
        "outputId": "5ad0e3d8-cd1a-49c7-92f4-b09c98e479a1"
      },
      "source": [
        "plothistograms(accident_safety_data_new,\"Industry Sector\",\"Accident Level\",\"group\")"
      ],
      "execution_count": null,
      "outputs": []
    },
    {
      "cell_type": "markdown",
      "metadata": {
        "id": "TQewvujR-GXJ"
      },
      "source": [
        "The most number of accidents have occured in the Mining Industry in Country 1 so far, followed by the metal industry, also in Country 1."
      ]
    },
    {
      "cell_type": "markdown",
      "metadata": {
        "id": "d0BGdFGW-GXJ"
      },
      "source": [
        "2. Next, let us see how many accidents have occured per Local"
      ]
    },
    {
      "cell_type": "code",
      "metadata": {
        "colab": {
          "base_uri": "https://localhost:8080/",
          "height": 542
        },
        "id": "E0ySoO8z-GXJ",
        "outputId": "f5e10f3e-308e-4f85-f766-2129222af811"
      },
      "source": [
        "plothistograms(accident_safety_data_new,\"Local\",\"Industry Sector\",\"stack\")\n",
        "plothistograms(accident_safety_data_new,\"Countries\",\"Industry Sector\",\"stack\")\n",
        "plothistograms(accident_safety_data_new,\"Local\",\"Accident Level\",\"stack\")"
      ],
      "execution_count": null,
      "outputs": []
    },
    {
      "cell_type": "markdown",
      "metadata": {
        "id": "DeKSXI9z-GXJ"
      },
      "source": [
        "1. Local 01,Local 02,Local 03,Local 04,Local 07 all have plants belonging  to the Mining Sector and they have had the most number of accidents. \n",
        "2. Other industry sectors have had the least number of accidents.\n",
        "3. Local 09 and Local_11 seems to be the safest cities, with only 2 accidents, even though it has plants belonging to the Metal sector."
      ]
    },
    {
      "cell_type": "code",
      "execution_count": null,
      "metadata": {},
      "outputs": [],
      "source": [
        "accident_safety_data_new['Critical Risk'].value_counts()\n"
      ]
    },
    {
      "cell_type": "code",
      "metadata": {
        "colab": {
          "base_uri": "https://localhost:8080/",
          "height": 542
        },
        "id": "5FrpbQ3I-GXJ",
        "outputId": "392fd525-8331-4213-c3b2-70842a27a45f"
      },
      "source": [
        "#plothistograms(accident_safety_data_new,\"Accident Level\",\"Critical Risk\",\"stack\")\n",
        "import plotly.graph_objects as go\n",
        "\n",
        "labels = accident_safety_data_new['Critical Risk']\n",
        "values = accident_safety_data_new['Critical Risk'].value_counts()\n",
        "\n",
        "# Use `hole` to create a donut-like pie chart\n",
        "fig = go.Figure(data=[go.Pie(labels=labels, values=values, hole=.3)])\n",
        "fig.show()"
      ],
      "execution_count": null,
      "outputs": []
    },
    {
      "cell_type": "markdown",
      "metadata": {
        "id": "vTmRyLgY-GXK"
      },
      "source": [
        "1. Local 04 and Local_03 have the highest number of unknown risks i.e. of type \"Other\".\n",
        "2. We can see that Local 06 has various kind of risks present, which means it could have more of metal plants there.\n",
        "3. We can also see that the next critical risks apart from Other are \"Power Lock\",\"Fall/Fall Prevention\" and \"Vehicle and mobile equipment\"."
      ]
    },
    {
      "cell_type": "markdown",
      "metadata": {
        "id": "5x6AwfXg-GXK"
      },
      "source": [
        "Here it is clearly visible that in the mining industry, third party employees have met with the maximum number of accidents as compared to the metal industry where their employees have met with the highest number of accidents."
      ]
    },
    {
      "cell_type": "code",
      "metadata": {
        "colab": {
          "base_uri": "https://localhost:8080/",
          "height": 542
        },
        "id": "DnCf00Zd-GXL",
        "outputId": "98783399-8cbd-444b-f767-f100b2be6bb1"
      },
      "source": [
        "plothistograms(accident_safety_data_new,\"Potential Accident Level\",\"Industry Sector\",\"stack\")"
      ],
      "execution_count": null,
      "outputs": []
    },
    {
      "cell_type": "markdown",
      "metadata": {
        "id": "CgLcYDRB-GXL"
      },
      "source": [
        "1. Major number of accidents have occured in the Potential Accident Level 3 category.\n",
        "2. Potential Accident Level 5 is least in the mining industry."
      ]
    },
    {
      "cell_type": "markdown",
      "metadata": {
        "id": "_710GOaW-GXL"
      },
      "source": [
        "DATA AUGMENTATION"
      ]
    },
    {
      "cell_type": "code",
      "metadata": {
        "colab": {
          "base_uri": "https://localhost:8080/",
          "height": 206
        },
        "id": "_wAQEKrL-GXL",
        "outputId": "4b566941-af90-4562-9edb-0f0f31ec1108"
      },
      "source": [
        "#Let us first create a dataset using only the class variable \"Accident Level\" and Description column.\n",
        "accident_safety_acc_level=accident_safety_data_new\n",
        "accident_safety_acc_level['Accident_Level']=accident_safety_acc_level.apply(lambda col: str(col['Accident Level']), axis=1)\n",
        "accident_safety_acc_level['Description_DL']=accident_safety_acc_level.apply(lambda col: str(col['Description']), axis=1)\n",
        "accident_safety_acc_level=accident_safety_acc_level[['Accident_Level','Description_DL']]\n",
        "accident_safety_acc_level.head()"
      ],
      "execution_count": null,
      "outputs": []
    },
    {
      "cell_type": "code",
      "metadata": {
        "colab": {
          "base_uri": "https://localhost:8080/",
          "height": 542
        },
        "id": "grW4NBYb-GXL",
        "outputId": "5dcd4634-1a6f-4ffb-9b5f-bca8122c6709"
      },
      "source": [
        "labels, frequencies = np.unique(accident_safety_acc_level.Accident_Level.values, return_counts=True)\n",
        "\n",
        "fig = px.pie(accident_safety_acc_level, values=frequencies, names=labels, title='Frequency of Description by Accident Level')\n",
        "fig.show()\n"
      ],
      "execution_count": null,
      "outputs": []
    },
    {
      "cell_type": "markdown",
      "metadata": {
        "id": "ajiHB8QB-GXM"
      },
      "source": [
        "We can clearly see that the Description column is imbalanced in the dataset. Most of the description is present only for Accident Level I(0).\n",
        "\n",
        "We will now check the exact counts of Descriptions per Accident level."
      ]
    },
    {
      "cell_type": "code",
      "execution_count": null,
      "metadata": {},
      "outputs": [],
      "source": [
        "accident_safety_acc_level.Accident_Level.value_counts().values\n",
        "for u in accident_safety_acc_level.Accident_Level.unique().tolist():\n",
        "    print(u)"
      ]
    },
    {
      "source": [
        "Let us first divide our data into train and test samples"
      ],
      "cell_type": "markdown",
      "metadata": {}
    },
    {
      "cell_type": "markdown",
      "metadata": {
        "id": "obf6TRIR-GXM"
      },
      "source": [
        "We will try different data augmentation techniques so that the data is balanced properly before it is passed into the dataset.\n",
        "\n",
        "1. SImple upsampling\n"
      ]
    },
    {
      "cell_type": "code",
      "execution_count": null,
      "metadata": {},
      "outputs": [],
      "source": [
        "accident_safety_acc_level.Accident_Level.value_counts()"
      ]
    },
    {
      "source": [
        "Using EDA let us perform data augmentation"
      ],
      "cell_type": "markdown",
      "metadata": {}
    },
    {
      "cell_type": "code",
      "execution_count": null,
      "metadata": {},
      "outputs": [],
      "source": [
        "options=['II']\n",
        "df_1=accident_safety_acc_level.copy(True)\n",
        "df_1=df_1.loc[df_1['Accident_Level'].isin(options)]\n",
        "df_1.head()"
      ]
    },
    {
      "cell_type": "code",
      "execution_count": null,
      "metadata": {},
      "outputs": [],
      "source": [
        "options=['III']\n",
        "df_2=accident_safety_acc_level.copy(True)\n",
        "df_2=df_2.loc[df_2['Accident_Level'].isin(options)]\n",
        "df_2.head()"
      ]
    },
    {
      "cell_type": "code",
      "execution_count": null,
      "metadata": {},
      "outputs": [],
      "source": [
        "options=['IV']\n",
        "df_3=accident_safety_acc_level.copy(True)\n",
        "df_3=df_3.loc[df_3['Accident_Level'].isin(options)]\n",
        "df_3.head()"
      ]
    },
    {
      "cell_type": "code",
      "execution_count": null,
      "metadata": {},
      "outputs": [],
      "source": [
        "options=['V']\n",
        "df_4=accident_safety_acc_level.copy(True)\n",
        "df_4=df_4.loc[df_4['Accident_Level'].isin(options)]\n",
        "df_4.head()"
      ]
    },
    {
      "cell_type": "code",
      "execution_count": null,
      "metadata": {
        "tags": [
          "outputPrepend"
        ]
      },
      "outputs": [],
      "source": [
        "from data_augmentation import gen_eda\n",
        "df_1_up=gen_eda(df_1,0.5,0.2,0.2,0.1,10)\n",
        "df_2_up=gen_eda(df_2,0.5,0.2,0.2,0.1,10)\n",
        "df_3_up=gen_eda(df_3,0.5,0.2,0.2,0.1,10)\n",
        "df_4_up=gen_eda(df_4,0.5,0.2,0.2,0.1,30)"
      ]
    },
    {
      "cell_type": "code",
      "execution_count": null,
      "metadata": {},
      "outputs": [],
      "source": [
        "accident_safety_acc_level_eda_upsampled = pd.concat([df_1_up,df_2_up,df_3_up,df_4_up])"
      ]
    },
    {
      "cell_type": "code",
      "execution_count": null,
      "metadata": {},
      "outputs": [],
      "source": [
        "accident_safety_acc_level_eda_upsampled.describe().T"
      ]
    },
    {
      "cell_type": "code",
      "execution_count": null,
      "metadata": {},
      "outputs": [],
      "source": [
        "accident_safety_acc_level_eda_upsampled.head()"
      ]
    },
    {
      "cell_type": "code",
      "execution_count": null,
      "metadata": {},
      "outputs": [],
      "source": [
        "accident_safety_acc_level_eda_upsampled = accident_safety_acc_level_eda_upsampled.append(accident_safety_acc_level[accident_safety_acc_level.Accident_Level == 'I'])"
      ]
    },
    {
      "cell_type": "code",
      "execution_count": null,
      "metadata": {},
      "outputs": [],
      "source": [
        "labels, frequencies = np.unique(accident_safety_acc_level_eda_upsampled.Accident_Level.values, return_counts=True)\n",
        "\n",
        "fig = px.pie(accident_safety_acc_level_eda_upsampled, values=frequencies, names=labels, title='Frequency of Description by Accident Level')\n",
        "fig.show()"
      ]
    },
    {
      "cell_type": "code",
      "execution_count": null,
      "metadata": {},
      "outputs": [],
      "source": [
        "#cleaning data for machine learning model\n",
        "from preprocess_data import clean_data\n",
        "accident_safety_acc_level_eda_upsampled[\"Description_ML\"] = accident_safety_acc_level_eda_upsampled[\"Description_DL\"].apply(lambda x: clean_data(x))"
      ]
    },
    {
      "cell_type": "code",
      "execution_count": null,
      "metadata": {},
      "outputs": [],
      "source": [
        "#cleaning data#cleaning data for deep learning model\n",
        "from preprocess_data import clean_DL_data\n",
        "accident_safety_acc_level_eda_upsampled[\"Description_DL_clean\"] = accident_safety_acc_level_eda_upsampled[\"Description_DL\"].apply(lambda x: clean_DL_data(x))"
      ]
    },
    {
      "cell_type": "code",
      "execution_count": null,
      "metadata": {},
      "outputs": [],
      "source": [
        "accident_safety_data_new.Description[1]"
      ]
    },
    {
      "cell_type": "code",
      "execution_count": null,
      "metadata": {},
      "outputs": [],
      "source": [
        "accident_safety_acc_level_eda_upsampled.Description_ML[1]"
      ]
    },
    {
      "cell_type": "code",
      "execution_count": null,
      "metadata": {},
      "outputs": [],
      "source": [
        "accident_safety_acc_level_eda_upsampled.Description_DL_clean[1]"
      ]
    },
    {
      "source": [
        "Let us see the most frequent words used for each accident level now."
      ],
      "cell_type": "markdown",
      "metadata": {}
    },
    {
      "source": [
        "1. Accident Level I"
      ],
      "cell_type": "markdown",
      "metadata": {}
    },
    {
      "cell_type": "code",
      "execution_count": null,
      "metadata": {},
      "outputs": [],
      "source": [
        "from wordcloud import WordCloud\n",
        "keywords_sarcasm = \" \".join(line for line in accident_safety_acc_level_eda_upsampled[accident_safety_acc_level_eda_upsampled.Accident_Level=='I'].Description_DL)\n",
        "word_cloud= WordCloud(width=1250, height=625, max_font_size=350, \n",
        "                      random_state=42).generate(keywords_sarcasm)\n",
        "plt.figure(figsize=(20, 10))\n",
        "plt.title(\"Most frequent words used to describe Accident Level I\", size=20, weight=\"bold\")\n",
        "plt.imshow(word_cloud)\n",
        "plt.axis(\"off\")\n",
        "plt.show()"
      ]
    },
    {
      "cell_type": "code",
      "execution_count": null,
      "metadata": {},
      "outputs": [],
      "source": [
        "from wordcloud import WordCloud\n",
        "keywords_sarcasm = \" \".join(line for line in accident_safety_acc_level_eda_upsampled[accident_safety_acc_level_eda_upsampled.Accident_Level=='II'].Description_DL)\n",
        "word_cloud= WordCloud(width=1250, height=625, max_font_size=350, \n",
        "                      random_state=42).generate(keywords_sarcasm)\n",
        "plt.figure(figsize=(20, 10))\n",
        "plt.title(\"Most frequent words used to describe Accident Level II\", size=20, weight=\"bold\")\n",
        "plt.imshow(word_cloud)\n",
        "plt.axis(\"off\")\n",
        "plt.show()"
      ]
    },
    {
      "cell_type": "code",
      "execution_count": null,
      "metadata": {},
      "outputs": [],
      "source": [
        "from wordcloud import WordCloud\n",
        "keywords_sarcasm = \" \".join(line for line in accident_safety_acc_level_eda_upsampled[accident_safety_acc_level_eda_upsampled.Accident_Level=='III'].Description_DL)\n",
        "word_cloud= WordCloud(width=1250, height=625, max_font_size=350, \n",
        "                      random_state=42).generate(keywords_sarcasm)\n",
        "plt.figure(figsize=(20, 10))\n",
        "plt.title(\"Most frequent words used to describe Accident Level III\", size=20, weight=\"bold\")\n",
        "plt.imshow(word_cloud)\n",
        "plt.axis(\"off\")\n",
        "plt.show()"
      ]
    },
    {
      "cell_type": "code",
      "execution_count": null,
      "metadata": {},
      "outputs": [],
      "source": [
        "from wordcloud import WordCloud\n",
        "keywords_sarcasm = \" \".join(line for line in accident_safety_acc_level_eda_upsampled[accident_safety_acc_level_eda_upsampled.Accident_Level=='IV'].Description_DL)\n",
        "word_cloud= WordCloud(width=1250, height=625, max_font_size=350, \n",
        "                      random_state=42).generate(keywords_sarcasm)\n",
        "plt.figure(figsize=(20, 10))\n",
        "plt.title(\"Most frequent words used to describe Accident Level IV\", size=20, weight=\"bold\")\n",
        "plt.imshow(word_cloud)\n",
        "plt.axis(\"off\")\n",
        "plt.show()"
      ]
    },
    {
      "cell_type": "code",
      "execution_count": null,
      "metadata": {},
      "outputs": [],
      "source": [
        "from wordcloud import WordCloud\n",
        "keywords_sarcasm = \" \".join(line for line in accident_safety_acc_level_eda_upsampled[accident_safety_acc_level_eda_upsampled.Accident_Level=='V'].Description_DL)\n",
        "word_cloud= WordCloud(width=1250, height=625, max_font_size=350, \n",
        "                      random_state=42).generate(keywords_sarcasm)\n",
        "plt.figure(figsize=(20, 10))\n",
        "plt.title(\"Most frequent words used to describe Accident Level V\", size=20, weight=\"bold\")\n",
        "plt.imshow(word_cloud)\n",
        "plt.axis(\"off\")\n",
        "plt.show()"
      ]
    }
  ]
}